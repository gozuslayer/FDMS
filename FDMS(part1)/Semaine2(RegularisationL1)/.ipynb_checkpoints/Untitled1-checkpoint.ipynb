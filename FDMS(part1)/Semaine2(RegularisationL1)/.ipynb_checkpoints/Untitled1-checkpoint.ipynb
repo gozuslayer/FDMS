{
 "cells": [
  {
   "cell_type": "code",
   "execution_count": 3,
   "metadata": {
    "collapsed": false
   },
   "outputs": [],
   "source": [
    "import numpy as np\n",
    "import matplotlib.pyplot as plt\n",
    "from sklearn.base import BaseEstimator,ClassifierMixin\n",
    "from sklearn import cross_validation\n",
    "from sklearn.metrics import accuracy_score"
   ]
  },
  {
   "cell_type": "code",
   "execution_count": 116,
   "metadata": {
    "collapsed": true
   },
   "outputs": [],
   "source": [
    "def pas_SGD_regularization_L1(X,Y,lamb,epsilone,grad):\n",
    "    for i in range(X.shape[1]):\n",
    "        idx = np.random.randint(X.shape[0])\n",
    "        error = Y[idx]-X[idx,:].dot(grad)\n",
    "        grad1 = grad + (2*epsilone*X[idx,:]*error) + lamb*np.sign(grad)\n",
    "        for j in range(X.shape[1]):\n",
    "                if grad[j,0]*grad1[j,0]<0:\n",
    "                    grad[j,0]=0\n",
    "                else:\n",
    "                    grad[j,0]=grad1[j,0]\n",
    "    return grad\n",
    "    "
   ]
  },
  {
   "cell_type": "code",
   "execution_count": 117,
   "metadata": {
    "collapsed": false
   },
   "outputs": [],
   "source": [
    "class RegularisationL1(BaseEstimator,ClassifierMixin):\n",
    "    def __init__(self,lamb,eps,iteration):\n",
    "        self.lamb = lamb\n",
    "        self.eps = eps\n",
    "        self.I = iteration\n",
    "        \n",
    "    def fit(self,X,Y):\n",
    "        #l correspond aux nombres de données dans notre ensemble d'apprentissage\n",
    "        #n correspond aux nombres de variables de chaques vecteurs\n",
    "        l , n = X.shape\n",
    "        \n",
    "        #initialisation gradient par une normale centrée réduite\n",
    "        grad = np.random.randn(n,1)\n",
    "        \n",
    "        #descente de gradient\n",
    "        for epoch in range(self.I):\n",
    "            \n",
    "            #Calcul de Ltheta pour controle\n",
    "            Ltheta = (1/float(l))*((Y-X.dot(grad))**2).sum()+self.lamb*((abs(grad)).sum())\n",
    "            print Ltheta\n",
    "            grad = pas_SGD_regularization_L1(X,Y,self.lamb,self.eps,grad)    \n",
    "            \n",
    "        #récupération des paramètres\n",
    "        self.coef=grad\n",
    "        return self\n",
    "\n",
    "    def predict(self,X):\n",
    "        l=X.shape[0]\n",
    "        result=np.zeros([l,1])\n",
    "        j=0\n",
    "        for i in X:\n",
    "            result[j,0]=i.dot(self.coef)\n",
    "            if (result[j,0]>0):\n",
    "                result[j,0]=1\n",
    "            elif (result[j,0]<0):\n",
    "                result[j,0]=-1\n",
    "            else:\n",
    "                result[j,0]=np.random.randint(2)\n",
    "                if result[j,0]==0:\n",
    "                        result[j,0]=-1\n",
    "            j=j+1  \n",
    "        return result\n",
    "        \n",
    "    "
   ]
  },
  {
   "cell_type": "code",
   "execution_count": 118,
   "metadata": {
    "collapsed": false
   },
   "outputs": [],
   "source": [
    "from sklearn import datasets\n",
    "iris = datasets.load_iris()\n",
    "X=iris.data\n",
    "Y=iris.target\n",
    "Y=np.where(Y==2,1,Y)\n",
    "Y=np.where(Y==0,-1,Y)\n",
    "Y = Y.reshape(150,1)\n",
    "\n",
    "\n"
   ]
  },
  {
   "cell_type": "code",
   "execution_count": 121,
   "metadata": {
    "collapsed": false
   },
   "outputs": [],
   "source": [
    "a=RegularisationL1(lamb=0.1,eps=0.0001,iteration=100)"
   ]
  },
  {
   "cell_type": "code",
   "execution_count": 122,
   "metadata": {
    "collapsed": false
   },
   "outputs": [
    {
     "name": "stdout",
     "output_type": "stream",
     "text": [
      "7.93029638334\n",
      "29.1349628252\n",
      "72.38029422\n",
      "126.662464015\n",
      "189.926052251\n",
      "260.418108285\n",
      "367.2042209\n",
      "456.471084063\n",
      "531.748056425\n",
      "624.979905222\n",
      "705.785634725\n",
      "842.568622355\n",
      "967.765479754\n",
      "1024.74014782\n",
      "1089.46796287\n",
      "1183.76794907\n",
      "1363.34786908\n",
      "1436.36978304\n",
      "1629.95980103\n",
      "1768.8065014\n",
      "1851.1485397\n",
      "2080.9565652\n",
      "2110.06572054\n",
      "2249.44272057\n",
      "2132.0170182\n",
      "2196.19115537\n",
      "2182.01386679\n",
      "2417.65926457\n",
      "2578.45001243\n",
      "2557.64838455\n",
      "2597.34937646\n",
      "2687.5550927\n",
      "2875.54298617\n",
      "3070.75081842\n",
      "3259.92640881\n",
      "3286.86646288\n",
      "3582.45647659\n",
      "3557.2121773\n",
      "3677.73322835\n",
      "3771.72789532\n",
      "4209.16480375\n",
      "4009.52714385\n",
      "4053.67060272\n",
      "4280.39375217\n",
      "4592.97748113\n",
      "4529.243159\n",
      "4566.75862431\n",
      "4647.57600042\n",
      "4481.02334541\n",
      "4237.78981576\n",
      "4499.33455111\n",
      "4249.52696191\n",
      "4021.75219293\n",
      "4212.80524156\n",
      "4393.5478806\n",
      "4339.98206877\n",
      "4112.09511441\n",
      "3941.00495936\n",
      "3890.58932481\n",
      "4056.21417791\n",
      "4205.02408056\n",
      "4150.47033227\n",
      "4268.36328958\n",
      "4291.27524619\n",
      "4752.13389323\n",
      "5431.7228287\n",
      "5252.45665854\n",
      "5727.16339946\n",
      "5687.54323291\n",
      "5957.74460668\n",
      "6300.87511627\n",
      "5976.38497163\n",
      "5542.89035713\n",
      "5680.37109529\n",
      "5672.78485821\n",
      "6029.97371698\n",
      "6251.29698183\n",
      "6246.11699685\n",
      "6393.18933629\n",
      "6382.88226188\n",
      "6167.75532334\n",
      "6223.8741177\n",
      "5988.94429651\n",
      "5670.18705216\n",
      "6004.28836893\n",
      "6060.30076154\n",
      "6557.64872337\n",
      "6590.73404156\n",
      "6994.79277888\n",
      "7176.8163581\n",
      "6984.57698952\n",
      "6990.79614892\n",
      "6705.38077726\n",
      "7012.42553857\n",
      "7412.10705684\n",
      "7082.37253783\n",
      "7096.17639618\n",
      "7048.27859162\n",
      "7704.34496858\n",
      "8033.43085203\n"
     ]
    },
    {
     "data": {
      "text/plain": [
       "RegularisationL1(eps=0.0001, iteration=None, lamb=0.1)"
      ]
     },
     "execution_count": 122,
     "metadata": {},
     "output_type": "execute_result"
    }
   ],
   "source": [
    "a.fit(X,Y)"
   ]
  },
  {
   "cell_type": "code",
   "execution_count": 115,
   "metadata": {
    "collapsed": false
   },
   "outputs": [
    {
     "name": "stdout",
     "output_type": "stream",
     "text": [
      "[-1 -1 -1 -1]\n"
     ]
    },
    {
     "ename": "ValueError",
     "evalue": "shapes (4,1) and (4,) not aligned: 1 (dim 1) != 4 (dim 0)",
     "output_type": "error",
     "traceback": [
      "\u001b[0;31m---------------------------------------------------------------------------\u001b[0m",
      "\u001b[0;31mValueError\u001b[0m                                Traceback (most recent call last)",
      "\u001b[0;32m<ipython-input-115-7205aa0a26b5>\u001b[0m in \u001b[0;36m<module>\u001b[0;34m()\u001b[0m\n\u001b[1;32m      2\u001b[0m \u001b[0mgrad\u001b[0m \u001b[0;34m=\u001b[0m \u001b[0mnp\u001b[0m\u001b[0;34m.\u001b[0m\u001b[0marray\u001b[0m\u001b[0;34m(\u001b[0m\u001b[0;34m[\u001b[0m\u001b[0;34m[\u001b[0m\u001b[0;36m1\u001b[0m\u001b[0;34m]\u001b[0m\u001b[0;34m,\u001b[0m\u001b[0;34m[\u001b[0m\u001b[0;36m2\u001b[0m\u001b[0;34m]\u001b[0m\u001b[0;34m,\u001b[0m\u001b[0;34m[\u001b[0m\u001b[0;36m1\u001b[0m\u001b[0;34m]\u001b[0m\u001b[0;34m,\u001b[0m\u001b[0;34m[\u001b[0m\u001b[0;36m1\u001b[0m\u001b[0;34m]\u001b[0m\u001b[0;34m]\u001b[0m\u001b[0;34m)\u001b[0m\u001b[0;34m\u001b[0m\u001b[0m\n\u001b[1;32m      3\u001b[0m \u001b[0;32mprint\u001b[0m \u001b[0mnp\u001b[0m\u001b[0;34m.\u001b[0m\u001b[0msign\u001b[0m\u001b[0;34m(\u001b[0m\u001b[0mx\u001b[0m\u001b[0;34m)\u001b[0m\u001b[0;34m\u001b[0m\u001b[0m\n\u001b[0;32m----> 4\u001b[0;31m \u001b[0mgrad\u001b[0m\u001b[0;34m.\u001b[0m\u001b[0mdot\u001b[0m\u001b[0;34m(\u001b[0m\u001b[0mx\u001b[0m\u001b[0;34m)\u001b[0m\u001b[0;34m\u001b[0m\u001b[0m\n\u001b[0m",
      "\u001b[0;31mValueError\u001b[0m: shapes (4,1) and (4,) not aligned: 1 (dim 1) != 4 (dim 0)"
     ]
    }
   ],
   "source": [
    "x = np.array([-1,-2,-3,-4])\n",
    "grad = np.array([[1],[2],[1],[1]])\n",
    "print np.sign(x)\n",
    "grad.dot(x)"
   ]
  },
  {
   "cell_type": "code",
   "execution_count": 123,
   "metadata": {
    "collapsed": false
   },
   "outputs": [
    {
     "ename": "ValueError",
     "evalue": "invalid literal for float(): 1:2.080750",
     "output_type": "error",
     "traceback": [
      "\u001b[0;31m---------------------------------------------------------------------------\u001b[0m",
      "\u001b[0;31mValueError\u001b[0m                                Traceback (most recent call last)",
      "\u001b[0;32m<ipython-input-123-751ffe26fddd>\u001b[0m in \u001b[0;36m<module>\u001b[0;34m()\u001b[0m\n\u001b[0;32m----> 1\u001b[0;31m \u001b[0mnp\u001b[0m\u001b[0;34m.\u001b[0m\u001b[0mloadtxt\u001b[0m\u001b[0;34m(\u001b[0m\u001b[0;34m\"/home/gozuslayer/Dac/Dac/FDMS/Semaine2/colon-cancer\"\u001b[0m\u001b[0;34m)\u001b[0m\u001b[0;34m\u001b[0m\u001b[0m\n\u001b[0m",
      "\u001b[0;32m/home/gozuslayer/anaconda2/lib/python2.7/site-packages/numpy/lib/npyio.pyc\u001b[0m in \u001b[0;36mloadtxt\u001b[0;34m(fname, dtype, comments, delimiter, converters, skiprows, usecols, unpack, ndmin)\u001b[0m\n\u001b[1;32m    928\u001b[0m \u001b[0;34m\u001b[0m\u001b[0m\n\u001b[1;32m    929\u001b[0m             \u001b[0;31m# Convert each value according to its column and store\u001b[0m\u001b[0;34m\u001b[0m\u001b[0;34m\u001b[0m\u001b[0m\n\u001b[0;32m--> 930\u001b[0;31m             \u001b[0mitems\u001b[0m \u001b[0;34m=\u001b[0m \u001b[0;34m[\u001b[0m\u001b[0mconv\u001b[0m\u001b[0;34m(\u001b[0m\u001b[0mval\u001b[0m\u001b[0;34m)\u001b[0m \u001b[0;32mfor\u001b[0m \u001b[0;34m(\u001b[0m\u001b[0mconv\u001b[0m\u001b[0;34m,\u001b[0m \u001b[0mval\u001b[0m\u001b[0;34m)\u001b[0m \u001b[0;32min\u001b[0m \u001b[0mzip\u001b[0m\u001b[0;34m(\u001b[0m\u001b[0mconverters\u001b[0m\u001b[0;34m,\u001b[0m \u001b[0mvals\u001b[0m\u001b[0;34m)\u001b[0m\u001b[0;34m]\u001b[0m\u001b[0;34m\u001b[0m\u001b[0m\n\u001b[0m\u001b[1;32m    931\u001b[0m             \u001b[0;31m# Then pack it according to the dtype's nesting\u001b[0m\u001b[0;34m\u001b[0m\u001b[0;34m\u001b[0m\u001b[0m\n\u001b[1;32m    932\u001b[0m             \u001b[0mitems\u001b[0m \u001b[0;34m=\u001b[0m \u001b[0mpack_items\u001b[0m\u001b[0;34m(\u001b[0m\u001b[0mitems\u001b[0m\u001b[0;34m,\u001b[0m \u001b[0mpacking\u001b[0m\u001b[0;34m)\u001b[0m\u001b[0;34m\u001b[0m\u001b[0m\n",
      "\u001b[0;32m/home/gozuslayer/anaconda2/lib/python2.7/site-packages/numpy/lib/npyio.pyc\u001b[0m in \u001b[0;36mfloatconv\u001b[0;34m(x)\u001b[0m\n\u001b[1;32m    657\u001b[0m         \u001b[0;32mif\u001b[0m \u001b[0;34mb'0x'\u001b[0m \u001b[0;32min\u001b[0m \u001b[0mx\u001b[0m\u001b[0;34m:\u001b[0m\u001b[0;34m\u001b[0m\u001b[0m\n\u001b[1;32m    658\u001b[0m             \u001b[0;32mreturn\u001b[0m \u001b[0mfloat\u001b[0m\u001b[0;34m.\u001b[0m\u001b[0mfromhex\u001b[0m\u001b[0;34m(\u001b[0m\u001b[0masstr\u001b[0m\u001b[0;34m(\u001b[0m\u001b[0mx\u001b[0m\u001b[0;34m)\u001b[0m\u001b[0;34m)\u001b[0m\u001b[0;34m\u001b[0m\u001b[0m\n\u001b[0;32m--> 659\u001b[0;31m         \u001b[0;32mreturn\u001b[0m \u001b[0mfloat\u001b[0m\u001b[0;34m(\u001b[0m\u001b[0mx\u001b[0m\u001b[0;34m)\u001b[0m\u001b[0;34m\u001b[0m\u001b[0m\n\u001b[0m\u001b[1;32m    660\u001b[0m \u001b[0;34m\u001b[0m\u001b[0m\n\u001b[1;32m    661\u001b[0m     \u001b[0mtyp\u001b[0m \u001b[0;34m=\u001b[0m \u001b[0mdtype\u001b[0m\u001b[0;34m.\u001b[0m\u001b[0mtype\u001b[0m\u001b[0;34m\u001b[0m\u001b[0m\n",
      "\u001b[0;31mValueError\u001b[0m: invalid literal for float(): 1:2.080750"
     ]
    }
   ],
   "source": [
    "np.loadtxt(\"/home/gozuslayer/Dac/Dac/FDMS/Semaine2/colon-cancer\")"
   ]
  },
  {
   "cell_type": "code",
   "execution_count": 131,
   "metadata": {
    "collapsed": false
   },
   "outputs": [
    {
     "data": {
      "text/plain": [
       "(<62x2000 sparse matrix of type '<type 'numpy.float64'>'\n",
       " \twith 124000 stored elements in Compressed Sparse Row format>,\n",
       " array([-1.,  1., -1.,  1., -1.,  1., -1.,  1., -1.,  1., -1.,  1., -1.,\n",
       "         1., -1.,  1., -1.,  1., -1.,  1., -1.,  1., -1.,  1., -1., -1.,\n",
       "        -1., -1., -1., -1., -1., -1., -1., -1., -1., -1., -1., -1.,  1.,\n",
       "        -1., -1.,  1.,  1., -1., -1., -1., -1.,  1., -1.,  1.,  1., -1.,\n",
       "        -1.,  1.,  1., -1., -1., -1., -1.,  1., -1.,  1.]))"
      ]
     },
     "execution_count": 131,
     "metadata": {},
     "output_type": "execute_result"
    }
   ],
   "source": [
    "import pandas as pd\n",
    "data = datasets.load_svmlight_file('/home/gozuslayer/Dac/Dac/FDMS/Semaine2/colon-cancer')\n",
    "data"
   ]
  },
  {
   "cell_type": "code",
   "execution_count": 151,
   "metadata": {
    "collapsed": false
   },
   "outputs": [
    {
     "data": {
      "text/plain": [
       "matrix([[ 2.08075 ,  1.09907 ,  0.927763, ..., -0.148522,  1.59153 ,\n",
       "         -0.217481],\n",
       "        [ 1.10946 ,  0.786453,  0.44556 , ...,  1.09401 , -0.492141,\n",
       "         -1.55408 ],\n",
       "        [-0.67653 ,  1.6931  ,  1.55925 , ..., -0.086285, -0.390878,\n",
       "         -0.089465],\n",
       "        ..., \n",
       "        [ 0.200706, -0.668545, -0.935933, ...,  0.605018,  1.34491 ,\n",
       "         -2.48507 ],\n",
       "        [ 0.829749,  0.299447,  0.130738, ...,  0.98563 , -0.210661,\n",
       "         -0.391249],\n",
       "        [ 0.566684, -0.53366 , -0.761951, ..., -0.45384 ,  0.194535,\n",
       "          0.06415 ]])"
      ]
     },
     "execution_count": 151,
     "metadata": {},
     "output_type": "execute_result"
    }
   ],
   "source": [
    "data[0].todense()"
   ]
  },
  {
   "cell_type": "code",
   "execution_count": 148,
   "metadata": {
    "collapsed": false
   },
   "outputs": [
    {
     "data": {
      "text/plain": [
       "matrix([[ 2.08075 ,  1.09907 ,  0.927763, ..., -0.148522,  1.59153 ,\n",
       "         -0.217481]])"
      ]
     },
     "execution_count": 148,
     "metadata": {},
     "output_type": "execute_result"
    }
   ],
   "source": [
    "datas[0].todense()"
   ]
  },
  {
   "cell_type": "code",
   "execution_count": null,
   "metadata": {
    "collapsed": true
   },
   "outputs": [],
   "source": []
  }
 ],
 "metadata": {
  "anaconda-cloud": {},
  "kernelspec": {
   "display_name": "Python [conda root]",
   "language": "python",
   "name": "conda-root-py"
  },
  "language_info": {
   "codemirror_mode": {
    "name": "ipython",
    "version": 2
   },
   "file_extension": ".py",
   "mimetype": "text/x-python",
   "name": "python",
   "nbconvert_exporter": "python",
   "pygments_lexer": "ipython2",
   "version": "2.7.12"
  }
 },
 "nbformat": 4,
 "nbformat_minor": 1
}
