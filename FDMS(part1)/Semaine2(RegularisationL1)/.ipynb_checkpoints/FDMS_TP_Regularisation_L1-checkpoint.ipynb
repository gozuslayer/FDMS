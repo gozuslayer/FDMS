{
 "cells": [
  {
   "cell_type": "markdown",
   "metadata": {
    "collapsed": true
   },
   "source": [
    "# TP FDMS (Jérémy Lê) - REGULARISATION"
   ]
  },
  {
   "cell_type": "markdown",
   "metadata": {},
   "source": [
    "Dans ce TP, nous allons implémenter un modèle Linéaire avec une régularisation L1 et L2. Afin de trouver les paramètres du modèle qui minimise la fonction de coût, nous utiliserons l'algorithme itératif de descente de gradient."
   ]
  },
  {
   "cell_type": "markdown",
   "metadata": {},
   "source": [
    "# Introduction"
   ]
  },
  {
   "cell_type": "markdown",
   "metadata": {},
   "source": [
    "Nous implémenterons dans ce notebook un classifieur linéaire en python. L'optimisation sera faite avec une descente de gradient stochastique. Dans un premier temps, nous appliquerons une régularisation avec la norme L1 du vecteur poids, L2 ou une combinaison des deux. Nous avons donc analyser les perfomances de notre classifieur dépendant de la méthodes de régularisation utilisé. Dans un second temps, nous avons comparé notre implémentation avec le modèle linéaire Lasso issu de la librairies de Machine Learning sklearn dans le but de valider notre code.\n",
    "\n",
    "Voici les différentes librairies utilisées au cours de cette expérience:\n",
    "\n",
    "    -Numpy \n",
    "    -Matplotlib\n",
    "    -sklearn"
   ]
  },
  {
   "cell_type": "code",
   "execution_count": 7,
   "metadata": {
    "ExecuteTime": {
     "end_time": "2017-02-20T18:33:28.220270",
     "start_time": "2017-02-20T18:33:10.680708"
    },
    "collapsed": false
   },
   "outputs": [],
   "source": [
    "import numpy as np\n",
    "import matplotlib.pyplot as plt\n",
    "import sklearn"
   ]
  },
  {
   "cell_type": "markdown",
   "metadata": {},
   "source": [
    "On commence par implémenter des classes Python modélisant un modele linéaire avec comme optimisation l'algorithme de descente de gradient stochastique avec la technique de gradient-clipping.\n"
   ]
  },
  {
   "cell_type": "code",
   "execution_count": 8,
   "metadata": {
    "collapsed": true
   },
   "outputs": [],
   "source": [
    "class Regularisation_L1():\n",
    "    \n",
    "    def cout(self, w):\n",
    "        return np.absolute(w).sum()\n",
    "    \n",
    "    def grad(self, w):\n",
    "        return np.sign(w)\n",
    "\n",
    "class Regularisation_L2():\n",
    "        \n",
    "    def cout(self, w):\n",
    "        return (w ** 2).sum()\n",
    "    \n",
    "    def grad(self, w):\n",
    "        return 2 * w\n",
    "\n",
    "class Regularisation_L1L2():\n",
    "    \n",
    "    def __init__(self, cL1, cL2):\n",
    "        self.cL1 = cL1\n",
    "        self.cL2 = cL2\n",
    "        self.regL1 = Regularisation_L1()\n",
    "        self.regL2 = Regularisation_L2()\n",
    "    \n",
    "    def cout(self, w):\n",
    "        return self.cL1 * self.regL1.cost(w) + self.cL2 * self.regL2.cost(w)\n",
    "    \n",
    "    def grad(self, w):\n",
    "        return self.cL1 * self.regL1.grad(w) + self.cL2 * self.regL2.grad(w)"
   ]
  },
  {
   "cell_type": "code",
   "execution_count": 9,
   "metadata": {
    "ExecuteTime": {
     "end_time": "2017-02-20T19:23:27.030927",
     "start_time": "2017-02-20T19:23:27.001081"
    },
    "collapsed": false
   },
   "outputs": [],
   "source": [
    "class MyLinear():\n",
    "    \"\"\"Linear Model\"\"\"\n",
    "\n",
    "    def __init__(self,lamb,eps,I,reg,debug=False):\n",
    "        self.lamb=lamb #coef de regularisation\n",
    "        self.eps=eps #learning rate\n",
    "        self.I=I #nbr max depoch\n",
    "        self.reg = reg #regularisation \n",
    "        self.debug = debug #for debug\n",
    "\n",
    "    def fit(self,X,Y):\n",
    "        #l correspond aux nombres de données dans notre ensemble d'apprentissage\n",
    "        #n correspond aux nombres de variables de chaques vecteurs\n",
    "        l,n=X.shape\n",
    "        self.allloss = np.random.randn(self.I,2)\n",
    "        \n",
    "        #On initialise les poids\n",
    "        self.w = np.random.randn(n,1)\n",
    "        \n",
    "        #Calcul du gradient\n",
    "        for it in range(self.I):\n",
    "            idx_shuffle = np.random.permutation(l)\n",
    "            for idx in idx_shuffle:\n",
    "                error = y[idx] - X[idx].dot(self.w)\n",
    "                grad = -2 * (error) * X[idx] # Erreur stochastique\n",
    "                grad += self.lamb * self.reg.grad(self.w).T # Erreur régularisation\n",
    "                w_old = np.copy(self.w)\n",
    "                self.w += - self.eps * grad.T\n",
    "                \n",
    "                #gradient clipping\n",
    "                tmp = self.w * w_old\n",
    "                self.w[tmp < 0] = 0\n",
    "            if self.debug and it%20 == 0: \n",
    "                print 'iteration : {0}'.format(it)\n",
    "                Ltheta = self.Loss_empirique(X,Y)    \n",
    "                print 'Loss : {}'.format(Ltheta)\n",
    "                print 'Accuracy : {}'.format(self.accuracy(X,Y))\n",
    "                print 'number of weight null: {}'.format(self.L0())\n",
    "        return self\n",
    "    \n",
    "    def Loss_empirique(self,X,Y):\n",
    "        return (np.square(Y.reshape(Y.shape[0],1) - X.dot(self.w))).sum() / X.shape[0] + self.reg.cout(self.w)\n",
    "\n",
    "    def predict(self,X):\n",
    "        return np.where( X.dot(self.w) > 0, 1, -1 )\n",
    "    \n",
    "    def accuracy(self,X,Y):\n",
    "        pred = self.predict(X)\n",
    "        return np.sum(pred==Y.reshape(Y.shape[0],1)) / float(X.shape[0])\n",
    "    \n",
    "    def L0(self):\n",
    "        return self.w.shape[0] - self.w[self.w != 0].shape[0]"
   ]
  },
  {
   "cell_type": "markdown",
   "metadata": {},
   "source": [
    "# Donnees"
   ]
  },
  {
   "cell_type": "code",
   "execution_count": 10,
   "metadata": {
    "collapsed": true
   },
   "outputs": [],
   "source": [
    "from sklearn import datasets\n",
    "from sklearn.model_selection import train_test_split"
   ]
  },
  {
   "cell_type": "code",
   "execution_count": 13,
   "metadata": {
    "ExecuteTime": {
     "end_time": "2017-02-20T19:23:27.531324",
     "start_time": "2017-02-20T19:23:27.460926"
    },
    "collapsed": false
   },
   "outputs": [
    {
     "name": "stdout",
     "output_type": "stream",
     "text": [
      "(6414, 122)\n",
      "number of training sample : 5131\n",
      "number of training sample : 1283\n"
     ]
    }
   ],
   "source": [
    "data = datasets.load_svmlight_file('../Data/a5a')\n",
    "x = data[0].todense()\n",
    "y = data[1]\n",
    "print x.shape\n",
    "xtrain, xtest, ytrain, ytest = train_test_split(x,y,test_size=0.2)\n",
    "print 'number of training sample : {}'.format(xtrain.shape[0])\n",
    "print 'number of training sample : {}'.format(xtest.shape[0])"
   ]
  },
  {
   "cell_type": "markdown",
   "metadata": {},
   "source": [
    "# Regularisation L1"
   ]
  },
  {
   "cell_type": "code",
   "execution_count": 20,
   "metadata": {
    "ExecuteTime": {
     "end_time": "2017-02-20T19:31:34.042726",
     "start_time": "2017-02-20T19:23:27.717252"
    },
    "collapsed": false
   },
   "outputs": [
    {
     "name": "stdout",
     "output_type": "stream",
     "text": [
      "coef regularisation : 0.0\n",
      "accuracy on test : 0.605611847233\n",
      "sparsite du model : 0.0\n",
      "coef regularisation : 0.1\n",
      "accuracy on test : 0.69680436477\n",
      "sparsite du model : 36.0\n",
      "coef regularisation : 0.2\n",
      "accuracy on test : 0.73343725643\n",
      "sparsite du model : 57.0\n",
      "coef regularisation : 0.3\n",
      "accuracy on test : 0.75058456742\n",
      "sparsite du model : 79.0\n",
      "coef regularisation : 0.4\n",
      "accuracy on test : 0.75058456742\n",
      "sparsite du model : 88.0\n",
      "coef regularisation : 0.5\n",
      "accuracy on test : 0.75058456742\n",
      "sparsite du model : 88.0\n",
      "coef regularisation : 0.6\n",
      "accuracy on test : 0.75058456742\n",
      "sparsite du model : 100.0\n",
      "coef regularisation : 0.7\n",
      "accuracy on test : 0.75058456742\n",
      "sparsite du model : 97.0\n",
      "coef regularisation : 0.8\n",
      "accuracy on test : 0.75058456742\n",
      "sparsite du model : 99.0\n",
      "coef regularisation : 0.9\n",
      "accuracy on test : 0.75058456742\n",
      "sparsite du model : 96.0\n",
      "coef regularisation : 1.0\n",
      "accuracy on test : 0.75058456742\n",
      "sparsite du model : 102.0\n",
      "coef regularisation : 1.1\n",
      "accuracy on test : 0.75058456742\n",
      "sparsite du model : 106.0\n",
      "coef regularisation : 1.2\n",
      "accuracy on test : 0.75058456742\n",
      "sparsite du model : 105.0\n",
      "coef regularisation : 1.3\n",
      "accuracy on test : 0.754481683554\n",
      "sparsite du model : 105.0\n",
      "coef regularisation : 1.4\n",
      "accuracy on test : 0.24941543258\n",
      "sparsite du model : 107.0\n",
      "coef regularisation : 1.5\n",
      "accuracy on test : 0.263445050663\n",
      "sparsite du model : 108.0\n",
      "coef regularisation : 1.6\n",
      "accuracy on test : 0.272798129384\n",
      "sparsite du model : 108.0\n",
      "coef regularisation : 1.7\n",
      "accuracy on test : 0.75058456742\n",
      "sparsite du model : 100.0\n",
      "coef regularisation : 1.8\n",
      "accuracy on test : 0.75058456742\n",
      "sparsite du model : 105.0\n",
      "coef regularisation : 1.9\n",
      "accuracy on test : 0.75058456742\n",
      "sparsite du model : 108.0\n"
     ]
    }
   ],
   "source": [
    "regL1 = Regularisation_L1()\n",
    "acc = np.zeros(20)\n",
    "sparsite = np.zeros(20)\n",
    "coef_reg = [0.1*i for i in range(20)]\n",
    "i=0\n",
    "for lamb in coef_reg:\n",
    "    linear = MyLinear(lamb=lamb,eps=0.00001,I=100,reg=regL1)\n",
    "    linear.fit(xtrain,ytrain)\n",
    "    acc[i] = linear.accuracy(xtest,ytest)\n",
    "    sparsite[i] = linear.L0()\n",
    "    print 'coef regularisation : {}'.format(lamb)\n",
    "    print 'accuracy on test : {}'.format(acc[i])\n",
    "    print 'sparsite du model : {}'.format(sparsite[i])\n",
    "    i += 1"
   ]
  },
  {
   "cell_type": "markdown",
   "metadata": {},
   "source": [
    "On observe que la regularisation L1 permet d'augmenter les performances de notre modele lorsque le coefficient de regularisation est bien paramétré. Lorsque l'on fait trop augmenter ce coefficient, les performances sont affecté et diminue. En effet, lorsque le coefficient est trop grand, le poids que l'on attribue à la regularisation devient trop grand par rapport au cout. Le classifieur ne peut plus apprendre correctement.\n",
    "\n",
    "Dans notre cas, le modele est performant lorque la sparsite du modele se situe autour de 100 (nombre de valeur nulle dans le vecteur poids)."
   ]
  },
  {
   "cell_type": "code",
   "execution_count": 21,
   "metadata": {
    "ExecuteTime": {
     "end_time": "2017-02-20T19:31:34.179530",
     "start_time": "2017-02-20T19:31:34.044509"
    },
    "collapsed": false
   },
   "outputs": [
    {
     "data": {
      "image/png": "[encoded data removed]",
      "text/plain": [
       "<matplotlib.figure.Figure at 0x7fc110e65490>"
      ]
     },
     "metadata": {},
     "output_type": "display_data"
    }
   ],
   "source": [
    "plt.plot(coef_reg,acc,'r-')\n",
    "plt.title('accuracy selon coef : modele L1')\n",
    "plt.xlabel('coef_ de regularisation')\n",
    "plt.ylabel('accuracy on test')\n",
    "plt.show()"
   ]
  },
  {
   "cell_type": "code",
   "execution_count": 28,
   "metadata": {
    "ExecuteTime": {
     "end_time": "2017-02-20T19:10:14.318896",
     "start_time": "2017-02-20T19:10:13.192735"
    },
    "collapsed": false,
    "scrolled": true
   },
   "outputs": [
    {
     "data": {
      "image/png": "[encoded data removed]",
      "text/plain": [
       "<matplotlib.figure.Figure at 0x7fc107db0450>"
      ]
     },
     "metadata": {},
     "output_type": "display_data"
    }
   ],
   "source": [
    "plt.plot(sparsite,acc,'*')\n",
    "plt.title('accuracy selon coef : modele L1')\n",
    "plt.xlabel('coef_ de regularisation')\n",
    "plt.ylabel('accuracy on test')\n",
    "plt.show()"
   ]
  },
  {
   "cell_type": "code",
   "execution_count": 32,
   "metadata": {
    "collapsed": false
   },
   "outputs": [
    {
     "name": "stdout",
     "output_type": "stream",
     "text": [
      "vecteur poids du model [[ -1.27637583e-02]\n",
      " [ -1.02242775e-02]\n",
      " [ -9.97087389e-03]\n",
      " [ -1.51992708e-02]\n",
      " [ -1.64659261e-02]\n",
      " [ -3.73271322e-02]\n",
      " [ -7.35535079e-03]\n",
      " [ -2.16488436e-03]\n",
      " [ -8.89041223e-04]\n",
      " [ -7.97925153e-03]\n",
      " [ -3.19596558e-03]\n",
      " [ -6.50469542e-05]\n",
      " [ -6.47516932e-05]\n",
      " [ -1.43790738e-02]\n",
      " [ -1.64092910e-02]\n",
      " [ -1.32368143e-02]\n",
      " [ -1.94398862e-02]\n",
      " [ -1.15903879e-03]\n",
      " [ -1.25518993e-02]\n",
      " [ -1.27085303e-02]\n",
      " [ -3.30740999e-03]\n",
      " [ -1.90689970e-02]\n",
      " [ -1.29642355e-03]\n",
      " [ -3.45128287e-03]\n",
      " [ -2.98131830e-03]\n",
      " [ -1.29060642e-03]\n",
      " [ -1.81915166e-03]\n",
      " [  1.87892508e-04]\n",
      " [ -3.90363974e-03]\n",
      " [ -3.50614463e-04]\n",
      " [ -1.05107376e-03]\n",
      " [ -3.74827167e-05]\n",
      " [ -8.66959234e-04]\n",
      " [ -3.03573883e-04]\n",
      " [ -8.79319788e-03]\n",
      " [ -1.90689906e-02]\n",
      " [ -1.27085283e-02]\n",
      " [ -6.43260070e-03]\n",
      " [ -1.76208022e-02]\n",
      " [ -3.15554207e-02]\n",
      " [ -6.27861721e-03]\n",
      " [ -2.43270540e-02]\n",
      " [ -1.52702493e-03]\n",
      " [ -1.24320835e-03]\n",
      " [  3.62637132e-04]\n",
      " [ -5.54253514e-05]\n",
      " [ -1.85786486e-03]\n",
      " [ -9.00815223e-03]\n",
      " [ -4.65165071e-03]\n",
      " [ -7.24444789e-03]\n",
      " [ -8.37817146e-03]\n",
      " [ -1.05052883e-02]\n",
      " [ -9.70956377e-04]\n",
      " [ -1.42915005e-03]\n",
      " [ -6.36663255e-03]\n",
      " [ -3.65687756e-03]\n",
      " [ -3.91412598e-03]\n",
      " [  1.95956169e-04]\n",
      " [ -1.32728961e-03]\n",
      " [  1.37980025e-04]\n",
      " [ -6.09643142e-03]\n",
      " [ -1.00323885e-02]\n",
      " [ -2.49857744e-02]\n",
      " [ -1.72045254e-02]\n",
      " [ -2.46785962e-03]\n",
      " [ -3.83712720e-03]\n",
      " [ -5.46545546e-02]\n",
      " [ -4.10691520e-03]\n",
      " [ -5.60288113e-04]\n",
      " [ -6.90969631e-04]\n",
      " [ -4.61138765e-03]\n",
      " [ -2.46426940e-02]\n",
      " [ -3.99814251e-02]\n",
      " [ -5.59342330e-02]\n",
      " [ -8.68988230e-03]\n",
      " [ -6.20473084e-02]\n",
      " [ -2.57680612e-03]\n",
      " [ -1.41622246e-02]\n",
      " [ -4.99989651e-03]\n",
      " [ -2.54335319e-02]\n",
      " [ -7.56940092e-03]\n",
      " [ -1.24590618e-02]\n",
      " [ -5.44522789e-02]\n",
      " [ -2.07365187e-04]\n",
      " [ -6.02887331e-04]\n",
      " [ -4.66316776e-04]\n",
      " [ -2.34177778e-04]\n",
      " [ -8.20742051e-04]\n",
      " [ -1.31239690e-04]\n",
      " [ -1.08512723e-03]\n",
      " [ -2.60041279e-04]\n",
      " [  1.42056662e-04]\n",
      " [  3.33309519e-04]\n",
      " [ -2.14623313e-04]\n",
      " [ -5.69590218e-05]\n",
      " [ -4.79287537e-04]\n",
      " [  4.57305439e-05]\n",
      " [ -8.36178299e-04]\n",
      " [ -2.04474951e-04]\n",
      " [ -5.23186291e-05]\n",
      " [ -4.42206941e-04]\n",
      " [ -6.51326389e-04]\n",
      " [ -1.65832120e-03]\n",
      " [ -4.89358231e-04]\n",
      " [  1.41535257e-04]\n",
      " [ -6.92581223e-05]\n",
      " [ -2.96454967e-05]\n",
      " [ -1.28998382e-05]\n",
      " [ -2.30642362e-05]\n",
      " [ -1.00724093e-04]\n",
      " [ -2.55433674e-05]\n",
      " [  4.95312268e-04]\n",
      " [ -1.39736300e-04]\n",
      " [  1.42265193e-04]\n",
      " [  1.50866812e-04]\n",
      " [  1.13470429e-09]\n",
      " [ -2.96944033e-04]\n",
      " [  7.35358870e-05]\n",
      " [ -1.09491046e-04]\n",
      " [ -1.53943564e-04]\n",
      " [ -2.54190493e-04]\n",
      " [ -1.36545777e-04]]\n"
     ]
    }
   ],
   "source": [
    "print 'vecteur poids du model',linear.w"
   ]
  },
  {
   "cell_type": "markdown",
   "metadata": {},
   "source": [
    "# Regularisation L2"
   ]
  },
  {
   "cell_type": "code",
   "execution_count": 29,
   "metadata": {
    "ExecuteTime": {
     "end_time": "2017-02-20T18:52:06.706414",
     "start_time": "2017-02-20T18:52:06.675186"
    },
    "collapsed": false
   },
   "outputs": [
    {
     "name": "stdout",
     "output_type": "stream",
     "text": [
      "coef regularisation : 0.0\n",
      "accuracy on test : 0.605611847233\n",
      "sparsite du model : 0.0\n",
      "coef regularisation : 0.1\n",
      "accuracy on test : 0.734996102884\n",
      "sparsite du model : 0.0\n",
      "coef regularisation : 0.2\n",
      "accuracy on test : 0.75058456742\n",
      "sparsite du model : 0.0\n",
      "coef regularisation : 0.3\n",
      "accuracy on test : 0.75058456742\n",
      "sparsite du model : 0.0\n",
      "coef regularisation : 0.4\n",
      "accuracy on test : 0.75058456742\n",
      "sparsite du model : 0.0\n",
      "coef regularisation : 0.5\n",
      "accuracy on test : 0.75058456742\n",
      "sparsite du model : 0.0\n",
      "coef regularisation : 0.6\n",
      "accuracy on test : 0.75058456742\n",
      "sparsite du model : 1.0\n",
      "coef regularisation : 0.7\n",
      "accuracy on test : 0.75058456742\n",
      "sparsite du model : 2.0\n",
      "coef regularisation : 0.8\n",
      "accuracy on test : 0.75058456742\n",
      "sparsite du model : 0.0\n",
      "coef regularisation : 0.9\n",
      "accuracy on test : 0.75058456742\n",
      "sparsite du model : 0.0\n",
      "coef regularisation : 1.0\n",
      "accuracy on test : 0.75058456742\n",
      "sparsite du model : 0.0\n",
      "coef regularisation : 1.1\n",
      "accuracy on test : 0.75058456742\n",
      "sparsite du model : 0.0\n",
      "coef regularisation : 1.2\n",
      "accuracy on test : 0.75058456742\n",
      "sparsite du model : 0.0\n",
      "coef regularisation : 1.3\n",
      "accuracy on test : 0.75058456742\n",
      "sparsite du model : 0.0\n",
      "coef regularisation : 1.4\n",
      "accuracy on test : 0.75058456742\n",
      "sparsite du model : 0.0\n",
      "coef regularisation : 1.5\n",
      "accuracy on test : 0.75058456742\n",
      "sparsite du model : 0.0\n",
      "coef regularisation : 1.6\n",
      "accuracy on test : 0.75058456742\n",
      "sparsite du model : 0.0\n",
      "coef regularisation : 1.7\n",
      "accuracy on test : 0.75058456742\n",
      "sparsite du model : 0.0\n",
      "coef regularisation : 1.8\n",
      "accuracy on test : 0.75058456742\n",
      "sparsite du model : 0.0\n",
      "coef regularisation : 1.9\n",
      "accuracy on test : 0.75058456742\n",
      "sparsite du model : 0.0\n"
     ]
    }
   ],
   "source": [
    "regL2 = Regularisation_L2()\n",
    "acc = np.zeros(20)\n",
    "sparsite = np.zeros(20)\n",
    "coef_reg = [0.1*i for i in range(20)]\n",
    "i=0\n",
    "for lamb in coef_reg:\n",
    "    linear = MyLinear(lamb=lamb,eps=0.00001,I=100,reg=regL2)\n",
    "    linear.fit(xtrain,ytrain)\n",
    "    acc[i] = linear.accuracy(xtest,ytest)\n",
    "    sparsite[i] = linear.L0()\n",
    "    print 'coef regularisation : {}'.format(lamb)\n",
    "    print 'accuracy on test : {}'.format(acc[i])\n",
    "    print 'sparsite du model : {}'.format(sparsite[i])\n",
    "    i += 1"
   ]
  },
  {
   "cell_type": "code",
   "execution_count": 30,
   "metadata": {
    "ExecuteTime": {
     "end_time": "2017-02-20T18:52:18.716083",
     "start_time": "2017-02-20T18:52:17.870422"
    },
    "collapsed": false,
    "scrolled": true
   },
   "outputs": [
    {
     "data": {
      "image/png": "[encoded data removed]",
      "text/plain": [
       "<matplotlib.figure.Figure at 0x7fc107ccea90>"
      ]
     },
     "metadata": {},
     "output_type": "display_data"
    }
   ],
   "source": [
    "plt.plot(coef_reg,acc,'r-')\n",
    "plt.title('accuracy selon coef : modele L1')\n",
    "plt.xlabel('coef_ de regularisation')\n",
    "plt.ylabel('accuracy on test')\n",
    "plt.show()"
   ]
  },
  {
   "cell_type": "code",
   "execution_count": 31,
   "metadata": {
    "collapsed": false
   },
   "outputs": [
    {
     "name": "stdout",
     "output_type": "stream",
     "text": [
      "vecteur poids du model [[ -1.27637583e-02]\n",
      " [ -1.02242775e-02]\n",
      " [ -9.97087389e-03]\n",
      " [ -1.51992708e-02]\n",
      " [ -1.64659261e-02]\n",
      " [ -3.73271322e-02]\n",
      " [ -7.35535079e-03]\n",
      " [ -2.16488436e-03]\n",
      " [ -8.89041223e-04]\n",
      " [ -7.97925153e-03]\n",
      " [ -3.19596558e-03]\n",
      " [ -6.50469542e-05]\n",
      " [ -6.47516932e-05]\n",
      " [ -1.43790738e-02]\n",
      " [ -1.64092910e-02]\n",
      " [ -1.32368143e-02]\n",
      " [ -1.94398862e-02]\n",
      " [ -1.15903879e-03]\n",
      " [ -1.25518993e-02]\n",
      " [ -1.27085303e-02]\n",
      " [ -3.30740999e-03]\n",
      " [ -1.90689970e-02]\n",
      " [ -1.29642355e-03]\n",
      " [ -3.45128287e-03]\n",
      " [ -2.98131830e-03]\n",
      " [ -1.29060642e-03]\n",
      " [ -1.81915166e-03]\n",
      " [  1.87892508e-04]\n",
      " [ -3.90363974e-03]\n",
      " [ -3.50614463e-04]\n",
      " [ -1.05107376e-03]\n",
      " [ -3.74827167e-05]\n",
      " [ -8.66959234e-04]\n",
      " [ -3.03573883e-04]\n",
      " [ -8.79319788e-03]\n",
      " [ -1.90689906e-02]\n",
      " [ -1.27085283e-02]\n",
      " [ -6.43260070e-03]\n",
      " [ -1.76208022e-02]\n",
      " [ -3.15554207e-02]\n",
      " [ -6.27861721e-03]\n",
      " [ -2.43270540e-02]\n",
      " [ -1.52702493e-03]\n",
      " [ -1.24320835e-03]\n",
      " [  3.62637132e-04]\n",
      " [ -5.54253514e-05]\n",
      " [ -1.85786486e-03]\n",
      " [ -9.00815223e-03]\n",
      " [ -4.65165071e-03]\n",
      " [ -7.24444789e-03]\n",
      " [ -8.37817146e-03]\n",
      " [ -1.05052883e-02]\n",
      " [ -9.70956377e-04]\n",
      " [ -1.42915005e-03]\n",
      " [ -6.36663255e-03]\n",
      " [ -3.65687756e-03]\n",
      " [ -3.91412598e-03]\n",
      " [  1.95956169e-04]\n",
      " [ -1.32728961e-03]\n",
      " [  1.37980025e-04]\n",
      " [ -6.09643142e-03]\n",
      " [ -1.00323885e-02]\n",
      " [ -2.49857744e-02]\n",
      " [ -1.72045254e-02]\n",
      " [ -2.46785962e-03]\n",
      " [ -3.83712720e-03]\n",
      " [ -5.46545546e-02]\n",
      " [ -4.10691520e-03]\n",
      " [ -5.60288113e-04]\n",
      " [ -6.90969631e-04]\n",
      " [ -4.61138765e-03]\n",
      " [ -2.46426940e-02]\n",
      " [ -3.99814251e-02]\n",
      " [ -5.59342330e-02]\n",
      " [ -8.68988230e-03]\n",
      " [ -6.20473084e-02]\n",
      " [ -2.57680612e-03]\n",
      " [ -1.41622246e-02]\n",
      " [ -4.99989651e-03]\n",
      " [ -2.54335319e-02]\n",
      " [ -7.56940092e-03]\n",
      " [ -1.24590618e-02]\n",
      " [ -5.44522789e-02]\n",
      " [ -2.07365187e-04]\n",
      " [ -6.02887331e-04]\n",
      " [ -4.66316776e-04]\n",
      " [ -2.34177778e-04]\n",
      " [ -8.20742051e-04]\n",
      " [ -1.31239690e-04]\n",
      " [ -1.08512723e-03]\n",
      " [ -2.60041279e-04]\n",
      " [  1.42056662e-04]\n",
      " [  3.33309519e-04]\n",
      " [ -2.14623313e-04]\n",
      " [ -5.69590218e-05]\n",
      " [ -4.79287537e-04]\n",
      " [  4.57305439e-05]\n",
      " [ -8.36178299e-04]\n",
      " [ -2.04474951e-04]\n",
      " [ -5.23186291e-05]\n",
      " [ -4.42206941e-04]\n",
      " [ -6.51326389e-04]\n",
      " [ -1.65832120e-03]\n",
      " [ -4.89358231e-04]\n",
      " [  1.41535257e-04]\n",
      " [ -6.92581223e-05]\n",
      " [ -2.96454967e-05]\n",
      " [ -1.28998382e-05]\n",
      " [ -2.30642362e-05]\n",
      " [ -1.00724093e-04]\n",
      " [ -2.55433674e-05]\n",
      " [  4.95312268e-04]\n",
      " [ -1.39736300e-04]\n",
      " [  1.42265193e-04]\n",
      " [  1.50866812e-04]\n",
      " [  1.13470429e-09]\n",
      " [ -2.96944033e-04]\n",
      " [  7.35358870e-05]\n",
      " [ -1.09491046e-04]\n",
      " [ -1.53943564e-04]\n",
      " [ -2.54190493e-04]\n",
      " [ -1.36545777e-04]]\n"
     ]
    }
   ],
   "source": [
    "print 'vecteur poids du model',linear.w"
   ]
  },
  {
   "cell_type": "markdown",
   "metadata": {},
   "source": [
    "# Lasso"
   ]
  },
  {
   "cell_type": "markdown",
   "metadata": {},
   "source": [
    "# Conclusion"
   ]
  },
  {
   "cell_type": "markdown",
   "metadata": {},
   "source": [
    "La regularisation L1 est une methode qui permet de controler la sparsite de notre modele. Ainsi on peut voir la regularisation L1 comme une méthode de selection de features.\n",
    "\n",
    "La regularisation L2, contrairement a la regularisation, ne permet pas de selectionner des features. Cependant, les features retrouvés nulles à l'aide de la régularisation L1 sont quasi-nulle avec la regL2."
   ]
  }
 ],
 "metadata": {
  "anaconda-cloud": {},
  "kernelspec": {
   "display_name": "Python 2",
   "language": "python",
   "name": "python2"
  },
  "language_info": {
   "codemirror_mode": {
    "name": "ipython",
    "version": 2
   },
   "file_extension": ".py",
   "mimetype": "text/x-python",
   "name": "python",
   "nbconvert_exporter": "python",
   "pygments_lexer": "ipython2",
   "version": "2.7.13"
  },
  "latex_envs": {
   "LaTeX_envs_menu_present": true,
   "bibliofile": "biblio.bib",
   "cite_by": "apalike",
   "current_citInitial": 1,
   "eqLabelWithNumbers": true,
   "eqNumInitial": 1,
   "hotkeys": {
    "equation": "Ctrl-E",
    "itemize": "Ctrl-I"
   },
   "labels_anchors": false,
   "latex_user_defs": false,
   "report_style_numbering": false,
   "user_envs_cfg": false
  }
 },
 "nbformat": 4,
 "nbformat_minor": 0
}
