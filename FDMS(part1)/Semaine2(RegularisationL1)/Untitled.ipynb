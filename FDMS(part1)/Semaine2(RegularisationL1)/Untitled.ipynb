{
 "cells": [
  {
   "cell_type": "code",
   "execution_count": 5,
   "metadata": {
    "collapsed": false
   },
   "outputs": [
    {
     "name": "stdout",
     "output_type": "stream",
     "text": [
      "{'nature': 'svm'}\n"
     ]
    }
   ],
   "source": [
    "import numpy as np\n",
    "from sklearn.base import BaseEstimator,ClassifierMixin\n",
    "from sklearn.svm import SVC\n",
    "from sklearn import cross_validation\n",
    "class RandomOuSvmClassifier(BaseEstimator,ClassifierMixin):\n",
    "\tdef __init__(self,nature=\"random\"):\n",
    "\t\tself.nature=nature\n",
    "\t\tself.svm=SVC()\n",
    "\tdef fit(self, X, y):\n",
    "\t\tif(self.nature==\"svm\"):\n",
    "\t\t\tself.svm.fit(X, y)\n",
    "\t\treturn self\n",
    "\tdef predict(self, X):\n",
    "\t\tif(self.nature==\"random\"):\n",
    "\t\t\treturn np.random.randint(0,2,len(X))\n",
    "\t\telse:\n",
    "\t\t\treturn self.svm.predict(X)\n",
    "###################Main####\n",
    "from sklearn import datasets\n",
    "from sklearn import metrics\n",
    "iris = datasets.load_iris()\n",
    "X=iris.data\n",
    "y=iris.target\n",
    "classifieurRandom= RandomOuSvmClassifier(nature=\"random\")\n",
    "classifieurSvm= RandomOuSvmClassifier(nature=\"svm\")\n",
    "scoresRandom = cross_validation.cross_val_score(classifieurRandom, X, y, cv=15\n",
    ",scoring=\"accuracy\")\n",
    "scoresSvm = cross_validation.cross_val_score(classifieurSvm, X, y, cv=15\n",
    ",scoring=\"accuracy\")\n",
    "print classifieurSvm.get_params()"
   ]
  },
  {
   "cell_type": "code",
   "execution_count": null,
   "metadata": {
    "collapsed": true
   },
   "outputs": [],
   "source": []
  }
 ],
 "metadata": {
  "kernelspec": {
   "display_name": "Python [Root]",
   "language": "python",
   "name": "Python [Root]"
  },
  "language_info": {
   "codemirror_mode": {
    "name": "ipython",
    "version": 2
   },
   "file_extension": ".py",
   "mimetype": "text/x-python",
   "name": "python",
   "nbconvert_exporter": "python",
   "pygments_lexer": "ipython2",
   "version": "2.7.12"
  }
 },
 "nbformat": 4,
 "nbformat_minor": 0
}
