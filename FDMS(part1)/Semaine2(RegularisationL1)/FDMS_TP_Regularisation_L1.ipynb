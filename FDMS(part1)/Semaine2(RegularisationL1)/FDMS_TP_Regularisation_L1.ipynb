{
 "cells": [
  {
   "cell_type": "markdown",
   "metadata": {
    "collapsed": true
   },
   "source": [
    "# TP FDMS (Jérémy Lê)"
   ]
  },
  {
   "cell_type": "markdown",
   "metadata": {},
   "source": [
    "Dans ce TP, nous allons implémenter un modèle Linéaire avec une régularisation L1. Afin de trouver les paramètres du modèle qui minimise la fonction de coût, nous utiliserons l'algorithme itératif de descente de gradient.\n",
    "\n",
    "Cependant, la norme L0 n'étant pas dérivable, nous ferons une relaxation continue de la norme L0 (qui n'est autre que la norme L1).\n"
   ]
  },
  {
   "cell_type": "markdown",
   "metadata": {},
   "source": [
    "## REGULARISATION L1"
   ]
  },
  {
   "cell_type": "markdown",
   "metadata": {},
   "source": [
    "On commence par importer toutes les fonctions nécessaires à l'implémentation.\n",
    "\n",
    "    -Numpy : pour le calcul matriciel\n",
    "    -BaseEstimator,ClassifierMixin: pour implémenter un model sklearn\n",
    "    -cross_validation: pour valider son model à l'aide d'une validation croisée\n",
    "    -Matplotlib.pyplot: pour affichage et controle des calculs\n",
    "    -accuracy_score: pour controler la precision du model\n",
    "    "
   ]
  },
  {
   "cell_type": "code",
   "execution_count": 3,
   "metadata": {
    "collapsed": false
   },
   "outputs": [
    {
     "name": "stderr",
     "output_type": "stream",
     "text": [
      "/home/gozuslayer/anaconda2/lib/python2.7/site-packages/sklearn/cross_validation.py:44: DeprecationWarning: This module was deprecated in version 0.18 in favor of the model_selection module into which all the refactored classes and functions are moved. Also note that the interface of the new CV iterators are different from that of this module. This module will be removed in 0.20.\n",
      "  \"This module will be removed in 0.20.\", DeprecationWarning)\n"
     ]
    }
   ],
   "source": [
    "import numpy as np\n",
    "import matplotlib.pyplot as plt\n",
    "from sklearn.base import BaseEstimator,ClassifierMixin\n",
    "from sklearn import cross_validation\n",
    "from sklearn.metrics import accuracy_score"
   ]
  },
  {
   "cell_type": "markdown",
   "metadata": {},
   "source": [
    "On commence par implémenter l'algorithme de descente de gradient stochastique avec la technique de gradient-clipping.\n",
    "Pour controler si l'algorithme fonctionne, on affiche la valeur de la fonction coût et l'accuracy"
   ]
  },
  {
   "cell_type": "code",
   "execution_count": 4,
   "metadata": {
    "collapsed": false
   },
   "outputs": [],
   "source": [
    "def gradient(X,Y,lamb,epsilone,I):\n",
    "    l=X.shape[0]\n",
    "    n=X.shape[1]\n",
    "    data = np.arange(I)\n",
    "    grad1 = np.ones([n,1])\n",
    "    grad2 = np.zeros([n,1])\n",
    "    for it in range(I):\n",
    "        for i in range(n):\n",
    "            idx = np.random.randint(l)\n",
    "            error = Y[idx]-X[idx,:].dot(grad1)\n",
    "            A = np.array([2*epsilone*(X[idx,:])*error]).T\n",
    "            grad2=grad1+A-lamb*np.sign(grad1)\n",
    "            for j in range(n):\n",
    "                if grad2[j,0]*grad1[j,0]<0:\n",
    "                    grad1[j,0]=0\n",
    "                else:\n",
    "                    grad1[j,0]=grad2[j,0]\n",
    "        Ltheta = (1/float(l))*((Y.reshape(150,1)-X.dot(grad1))**2).sum()+lamb*(abs(grad1)).sum()    \n",
    "        \n",
    "        data[it]=Ltheta\n",
    "        accuracy_score(self.predict(X),Y)\n",
    "        \n",
    "    return grad1\n",
    "    \n",
    "    \n",
    "    "
   ]
  },
  {
   "cell_type": "code",
   "execution_count": 90,
   "metadata": {
    "collapsed": false
   },
   "outputs": [],
   "source": [
    "class RegularisationL1(BaseEstimator,ClassifierMixin):\n",
    "    \"\"\"Régularisation L1\"\"\"\n",
    "\n",
    "    def __init__(self,lamb,eps,I):\n",
    "        self.lamb=lamb\n",
    "        self.eps=eps\n",
    "        self.I=I\n",
    "\n",
    "    def fit(self,X,Y):\n",
    "        #l correspond aux nombres de données dans notre ensemble d'apprentissage\n",
    "        #n correspond aux nombres de variables de chaques vecteurs\n",
    "        l,n=X.shape\n",
    "        self.data = np.random.randn(self.I,2)\n",
    "        \n",
    "        #On initialise les poids\n",
    "        grad1 = np.random.randn(n,1)\n",
    "        grad2 = np.random.randn(n,1)\n",
    "        \n",
    "        #Calcul du gradient\n",
    "        for it in range(self.I):\n",
    "            for i in range(n):\n",
    "                idx = np.random.randint(l)\n",
    "                error = Y[idx]-X[idx,:].dot(grad1)\n",
    "                A = np.array([2*self.eps*(X[idx,:])*error]).T\n",
    "                grad2=grad1+A-self.lamb*np.sign(grad1)\n",
    "                for j in range(n):\n",
    "                    if grad2[j,0]*grad1[j,0]<0:\n",
    "                        grad1[j,0]=0\n",
    "                    else:\n",
    "                        grad1[j,0]=grad2[j,0]\n",
    "                        \n",
    "            Ltheta = (1/float(l))*((Y-X.dot(grad1))**2).sum()+self.lamb*(abs(grad1)).sum()    \n",
    "            self.coef=grad1\n",
    "            self.data[it,0]=Ltheta\n",
    "            self.data[it,1]= accuracy_score(self.predict(X),Y)\n",
    "        return self\n",
    "\n",
    "    def predict(self,X):\n",
    "        l=X.shape[0]\n",
    "        result = X.dot(self.coef)\n",
    "        result = np.where(result>0.5,1,0)\n",
    "        return result"
   ]
  },
  {
   "cell_type": "code",
   "execution_count": 114,
   "metadata": {
    "collapsed": false
   },
   "outputs": [],
   "source": [
    "from sklearn import datasets\n",
    "from sklearn import metrics\n",
    "iris = datasets.load_iris()\n",
    "X=iris.data\n",
    "y=iris.target\n"
   ]
  },
  {
   "cell_type": "code",
   "execution_count": 116,
   "metadata": {
    "collapsed": false
   },
   "outputs": [
    {
     "data": {
      "image/png": "[encoded data removed]",
      "text/plain": [
       "<matplotlib.figure.Figure at 0x7f0384bf0050>"
      ]
     },
     "metadata": {},
     "output_type": "display_data"
    }
   ],
   "source": [
    "model_l1=RegularisationL1(lamb=0,eps=0.00001,I=1000)\n",
    "model_l1.fit(X,Y)\n",
    "plt.plot(range(a.I),a.data[:,0],'r-')\n",
    "plt.show()"
   ]
  },
  {
   "cell_type": "code",
   "execution_count": 117,
   "metadata": {
    "collapsed": false,
    "scrolled": true
   },
   "outputs": [],
   "source": [
    "scores = cross_validation.cross_val_score(a,X,Y,cv=5,scoring=\"accuracy\")"
   ]
  },
  {
   "cell_type": "code",
   "execution_count": 100,
   "metadata": {
    "collapsed": false,
    "scrolled": true
   },
   "outputs": [
    {
     "data": {
      "text/plain": [
       "array([ 0.5       ,  0.53333333,  0.6       ,  0.3       ,  0.33333333])"
      ]
     },
     "execution_count": 100,
     "metadata": {},
     "output_type": "execute_result"
    }
   ],
   "source": [
    "scores"
   ]
  },
  {
   "cell_type": "code",
   "execution_count": 35,
   "metadata": {
    "collapsed": false
   },
   "outputs": [
    {
     "name": "stdout",
     "output_type": "stream",
     "text": [
      "[ 1.          1.          1.          1.          0.90909091  1.          1.\n",
      "  1.          1.          1.          1.          1.          1.          1.\n",
      "  1.        ]\n"
     ]
    }
   ],
   "source": [
    "class RegularisationL2(BaseEstimator,ClassifierMixin):\n",
    "    \"\"\"Régularisation L2\"\"\"\n",
    "\n",
    "    def __init__(self,lamb,eps,I):\n",
    "        self.lamb=lamb\n",
    "        self.eps=eps\n",
    "        self.I=I\n",
    "\n",
    "    def fit(self,X,Y):\n",
    "        #l correspond aux nombres de données dans notre ensemble d'apprentissage\n",
    "        #n correspond aux nombres de variables de chaques vecteurs\n",
    "        l,n=X.shape\n",
    "        self.data = np.random.randn(self.I,2)\n",
    "        \n",
    "        #On initialise les poids\n",
    "        grad1 = np.random.randn(n,1)\n",
    "        grad2 = np.random.randn(n,1)\n",
    "        \n",
    "        #Calcul du gradient\n",
    "        for it in range(self.I):\n",
    "            for i in range(n):\n",
    "                idx = np.random.randint(l)\n",
    "                error = Y[idx]-X[idx,:].dot(grad1)\n",
    "                A = np.array([2*self.eps*(X[idx,:])*error]).T\n",
    "                grad2=grad1+A-self.lamb*np.sign(grad1)#TODO\n",
    "                for j in range(n):\n",
    "                    if grad2[j,0]*grad1[j,0]<0:\n",
    "                        grad1[j,0]=0\n",
    "                    else:\n",
    "                        grad1[j,0]=grad2[j,0]\n",
    "            Ltheta = (1/float(l))*((Y-X.dot(grad1))**2).sum()+self.lamb*(abs(grad1)).sum()    \n",
    "            self.coef=grad1\n",
    "            self.data[it,0]=Ltheta\n",
    "            self.data[it,1]= accuracy_score(self.predict(X),Y)\n",
    "        return self\n",
    "\n",
    "    def predict(self,X):\n",
    "        l=X.shape[0]\n",
    "        result = X.dot(self.coef)\n",
    "        result = np.where(result>0.5,1,0)\n",
    "        return result"
   ]
  },
  {
   "cell_type": "code",
   "execution_count": 78,
   "metadata": {
    "collapsed": false
   },
   "outputs": [],
   "source": [
    "class RegularisationL1_L2(BaseEstimator,ClassifierMixin):\n",
    "    \"\"\"Régularisation combinaison L1 et L2\"\"\"\n",
    "\n",
    "    def __init__(self,lamb1,lamb2,eps,I):\n",
    "        self.lamb1=lamb1\n",
    "        self.lamb2=lamb2\n",
    "        self.eps=eps\n",
    "        self.I=I\n",
    "\n",
    "    def fit(self,X,Y):\n",
    "        #l correspond aux nombres de données dans notre ensemble d'apprentissage\n",
    "        #n correspond aux nombres de variables de chaques vecteurs\n",
    "        l,n=X.shape\n",
    "        self.data = np.random.randn(self.I,2)\n",
    "        \n",
    "        #On initialise les poids\n",
    "        grad1 = np.random.randn(n,1)\n",
    "        grad2 = np.random.randn(n,1)\n",
    "        \n",
    "        #Calcul du gradient\n",
    "        for it in range(self.I):\n",
    "            for i in range(n):\n",
    "                idx = np.random.randint(l)\n",
    "                error = Y[idx]-X[idx,:].dot(grad1)\n",
    "                A = np.array([2*self.eps*(X[idx,:])*error]).T\n",
    "                grad2=grad1+A-self.lamb*np.sign(grad1)#TODO\n",
    "                for j in range(n):\n",
    "                    if grad2[j,0]*grad1[j,0]<0:\n",
    "                        grad1[j,0]=0\n",
    "                    else:\n",
    "                        grad1[j,0]=grad2[j,0]\n",
    "            Ltheta = (1/float(l))*((Y-X.dot(grad1))**2).sum()+self.lamb*(abs(grad1)).sum()    \n",
    "            self.coef=grad1\n",
    "            self.data[it,0]=Ltheta\n",
    "            self.data[it,1]= accuracy_score(self.predict(X),Y)\n",
    "        return self\n",
    "\n",
    "    def predict(self,X):\n",
    "        l=X.shape[0]\n",
    "        result = X.dot(self.coef)\n",
    "        result = np.where(result>0.5,1,0)\n",
    "        return result"
   ]
  },
  {
   "cell_type": "code",
   "execution_count": 113,
   "metadata": {
    "collapsed": false
   },
   "outputs": [],
   "source": [
    "from sklearn.linear_model import Lasso\n",
    "model_lasso = Lasso()"
   ]
  },
  {
   "cell_type": "code",
   "execution_count": 118,
   "metadata": {
    "collapsed": false
   },
   "outputs": [
    {
     "data": {
      "text/plain": [
       "Lasso(alpha=1.0, copy_X=True, fit_intercept=True, max_iter=1000,\n",
       "   normalize=False, positive=False, precompute=False, random_state=None,\n",
       "   selection='cyclic', tol=0.0001, warm_start=False)"
      ]
     },
     "execution_count": 118,
     "metadata": {},
     "output_type": "execute_result"
    }
   ],
   "source": [
    "model_lasso.fit(X,Y)"
   ]
  },
  {
   "cell_type": "code",
   "execution_count": 120,
   "metadata": {
    "collapsed": false
   },
   "outputs": [],
   "source": [
    "scores = cross_validation.cross_val_score(model_lasso,X,Y,cv=5)"
   ]
  },
  {
   "cell_type": "code",
   "execution_count": 1,
   "metadata": {
    "ExecuteTime": {
     "end_time": "2017-01-24T19:07:21.385538",
     "start_time": "2017-01-24T19:07:21.111344"
    },
    "collapsed": false
   },
   "outputs": [
    {
     "name": "stdout",
     "output_type": "stream",
     "text": [
      "[0, 1, 2, 3, 4, 5, 6, 7]\n"
     ]
    }
   ],
   "source": [
    "\t\n",
    "print range(2**3)"
   ]
  },
  {
   "cell_type": "code",
   "execution_count": 3,
   "metadata": {
    "ExecuteTime": {
     "end_time": "2017-01-24T19:07:50.497191",
     "start_time": "2017-01-24T19:07:50.477951"
    },
    "collapsed": false
   },
   "outputs": [
    {
     "name": "stdout",
     "output_type": "stream",
     "text": [
      "[0, 1, 2, 3, 4, 5, 6, 7]\n"
     ]
    }
   ],
   "source": [
    "\t\n",
    "print [i for i in xrange(2**3)]"
   ]
  },
  {
   "cell_type": "code",
   "execution_count": null,
   "metadata": {
    "collapsed": true
   },
   "outputs": [],
   "source": []
  }
 ],
 "metadata": {
  "anaconda-cloud": {},
  "kernelspec": {
   "display_name": "Python [conda root]",
   "language": "python",
   "name": "conda-root-py"
  },
  "language_info": {
   "codemirror_mode": {
    "name": "ipython",
    "version": 2
   },
   "file_extension": ".py",
   "mimetype": "text/x-python",
   "name": "python",
   "nbconvert_exporter": "python",
   "pygments_lexer": "ipython2",
   "version": "2.7.12"
  }
 },
 "nbformat": 4,
 "nbformat_minor": 0
}
