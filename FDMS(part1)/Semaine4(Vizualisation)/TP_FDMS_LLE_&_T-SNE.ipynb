{
 "cells": [
  {
   "cell_type": "code",
   "execution_count": 1,
   "metadata": {
    "collapsed": true
   },
   "outputs": [],
   "source": [
    "import numpy as np #algebre linéaire\n",
    "import matplotlib.pyplot as plt #plot"
   ]
  },
  {
   "cell_type": "code",
   "execution_count": 2,
   "metadata": {
    "collapsed": true
   },
   "outputs": [],
   "source": [
    "from sklearn.datasets import fetch_mldata\n",
    "from sklearn import linear_model"
   ]
  },
  {
   "cell_type": "code",
   "execution_count": 3,
   "metadata": {
    "collapsed": false,
    "scrolled": true
   },
   "outputs": [],
   "source": [
    "mnist = fetch_mldata('MNIST original')"
   ]
  },
  {
   "cell_type": "code",
   "execution_count": 1,
   "metadata": {
    "collapsed": false
   },
   "outputs": [
    {
     "ename": "NameError",
     "evalue": "name 'mnist' is not defined",
     "output_type": "error",
     "traceback": [
      "\u001b[0;31m---------------------------------------------------------------------------\u001b[0m",
      "\u001b[0;31mNameError\u001b[0m                                 Traceback (most recent call last)",
      "\u001b[0;32m<ipython-input-1-91bb5cbf2d2f>\u001b[0m in \u001b[0;36m<module>\u001b[0;34m()\u001b[0m\n\u001b[0;32m----> 1\u001b[0;31m \u001b[0mXtrain\u001b[0m \u001b[0;34m=\u001b[0m \u001b[0mmnist\u001b[0m\u001b[0;34m.\u001b[0m\u001b[0mdata\u001b[0m\u001b[0;34m\u001b[0m\u001b[0m\n\u001b[0m\u001b[1;32m      2\u001b[0m \u001b[0mYtrain\u001b[0m \u001b[0;34m=\u001b[0m \u001b[0mmnist\u001b[0m\u001b[0;34m.\u001b[0m\u001b[0mtarget\u001b[0m\u001b[0;34m\u001b[0m\u001b[0m\n\u001b[1;32m      3\u001b[0m \u001b[0mXtrain\u001b[0m \u001b[0;34m=\u001b[0m \u001b[0mXtrain\u001b[0m\u001b[0;34m[\u001b[0m\u001b[0;34m:\u001b[0m\u001b[0;36m50\u001b[0m\u001b[0;34m]\u001b[0m\u001b[0;34m\u001b[0m\u001b[0m\n\u001b[1;32m      4\u001b[0m \u001b[0;31m#m=nombre d'échantillons , n = Variables\u001b[0m\u001b[0;34m\u001b[0m\u001b[0;34m\u001b[0m\u001b[0m\n\u001b[1;32m      5\u001b[0m \u001b[0mm\u001b[0m\u001b[0;34m,\u001b[0m\u001b[0mn\u001b[0m\u001b[0;34m=\u001b[0m\u001b[0mXtrain\u001b[0m\u001b[0;34m.\u001b[0m\u001b[0mshape\u001b[0m\u001b[0;34m\u001b[0m\u001b[0m\n",
      "\u001b[0;31mNameError\u001b[0m: name 'mnist' is not defined"
     ]
    }
   ],
   "source": [
    "Xtrain = mnist.data\n",
    "Ytrain = mnist.target\n",
    "Xtrain = Xtrain[:50]\n",
    "#m=nombre d'échantillons , n = Variables\n",
    "m,n=Xtrain.shape\n",
    "\n",
    "#définition de la distance\n",
    "def distance_euclidienne(X,Y):\n",
    "    return math.sqrt(((X-Y)**2).sum())\n",
    "\n",
    "#Initialisation de la matrice des distances entre les points (i,j)\n",
    "Matrix = np.ones([m,m])\n",
    "print Matrix\n",
    "\n",
    "#Calcul des distances\n",
    "for i in range(m):\n",
    "    for j in range(m):\n",
    "        Matrix[i,j] = distance_euclidienne(Xtrain[i,:],Xtrain[j,:])\n",
    "print Matrix\n",
    "#Définition du nombre de voisin\n",
    "nbr_voisin = 3       \n",
    "K = nbr_voisin\n",
    "\n",
    "#Initialisation de la matrice des voisins\n",
    "Voisin = np.random.randn(m,3)\n",
    "\n",
    "def get_K_min_index(K,A,B):\n",
    "    for i in range(A.shape[0]):\n",
    "        index_min = np.argmin(A[i,:])\n",
    "        index_max = np.argmax(A[i,:])\n",
    "        if index_min == i:\n",
    "            A[i,index_min] = A[i,index_max]\n",
    "        for j in range(3):\n",
    "            \"\"\"trouver les voisins les \n",
    "            plus proche de chaque points\"\"\"\n",
    "            index_min = np.argmin(A[i,:])\n",
    "            index_max = np.argmax(A[i,:])\n",
    "            B[i,j] = index_min\n",
    "            A[i,index_min] = A[i,index_max]\n",
    "\n",
    "#Création de la matrice des voisin : Voisin[i,:] = K voisins --> K nombre\n",
    "get_K_min_index(K,Matrix,Voisin)\n",
    "\n",
    "print(\"LISTE VOISIN\")\n",
    "print Voisin\n",
    "\n",
    "#Calcul des poids des voisins\n",
    "\"\"\"Pour chaque point\"\"\"\n",
    "for i in range(m):\n",
    "    \"\"\"trouver les alpha(i,j)\"\"\"\n",
    "    print ('training point'+str(i) )\n",
    "    index = Voisin[i,:].astype(int)\n",
    "    reg = linear_model.LinearRegression(fit_intercept=False)\n",
    "    Xtrain_i = Xtrain[i].reshape(784,1)\n",
    "    Xtrain_i =Xtrain_i\n",
    "    #Voisin[i,:] correspond aux K plus proches voisins du point en considération (i)\n",
    "    reg.fit(Xtrain[index].T,Xtrain_i)\n",
    "    Alphas = reg.coef_\n",
    "    \"\"\"trouver les alpha(i,j)\"\"\"\n",
    "    p=0\n",
    "    for j in range(m):\n",
    "        if j in Voisin[i,:]:\n",
    "            Matrix[i,j]=Alphas[0,p]\n",
    "            p = p+1\n",
    "        else:\n",
    "            Matrix[i,j]=0\n",
    "#trouver les yi dans R2\n",
    "\n",
    "U = (np.eye(Matrix.shape)-Matrix).T\n",
    "U = U.dot(np.eye(Matrix.shape)-Matrix)"
   ]
  },
  {
   "cell_type": "code",
   "execution_count": 12,
   "metadata": {
    "collapsed": false
   },
   "outputs": [
    {
     "name": "stdout",
     "output_type": "stream",
     "text": [
      "(array([  5.22550996e+00,   3.73925211e+00,   3.63793885e+00,\n",
      "         3.45331161e+00,   3.12575748e+00,   3.04480109e+00,\n",
      "         2.91907591e+00,   2.80177771e+00,   2.59295021e+00,\n",
      "         2.43212520e+00,   2.26339847e+00,   2.21581570e+00,\n",
      "         2.08555288e+00,   1.84494786e+00,   1.81631417e+00,\n",
      "         1.69635367e+00,   1.59359699e+00,   7.70623965e-04,\n",
      "         2.78117278e-02,   6.13530578e-02,   1.53043573e+00,\n",
      "         1.46352124e-01,   1.87734950e-01,   2.22962379e-01,\n",
      "         2.50109595e-01,   2.72757090e-01,   3.16946748e-01,\n",
      "         3.68012679e-01,   1.43854455e+00,   4.54824623e-01,\n",
      "         5.17223935e-01,   5.35555551e-01,   5.67529161e-01,\n",
      "         1.35903505e+00,   6.39688381e-01,   6.61304435e-01,\n",
      "         1.30469772e+00,   1.25760776e+00,   7.56998948e-01,\n",
      "         8.13240660e-01,   8.64549829e-01,   9.22002802e-01,\n",
      "         1.13021738e+00,   1.10122976e+00,   1.06060429e+00,\n",
      "         9.76758367e-01,   1.03518805e+00,   9.96473839e-01,\n",
      "         1.01301960e+00,   1.01787177e+00]), array([[-0.11910621,  0.04192913,  0.16647488, ...,  0.07139679,\n",
      "        -0.15929588,  0.10580958],\n",
      "       [ 0.16302563,  0.00533901, -0.08143708, ..., -0.04203083,\n",
      "        -0.06300372,  0.09508332],\n",
      "       [ 0.09990677, -0.10770354,  0.07564725, ...,  0.01703784,\n",
      "        -0.00170169,  0.03226919],\n",
      "       ..., \n",
      "       [ 0.10790826,  0.05473317,  0.04389753, ...,  0.31471503,\n",
      "         0.29584011, -0.01656925],\n",
      "       [ 0.02487546,  0.02289608, -0.10138499, ...,  0.25113907,\n",
      "        -0.12451364, -0.01845221],\n",
      "       [-0.01672689,  0.02442123,  0.02523001, ..., -0.08072153,\n",
      "        -0.00966885,  0.1586386 ]]))\n"
     ]
    }
   ],
   "source": [
    "M = (np.eye(50)-Matrix).T\n",
    "M = M.dot(np.eye(50)-Matrix)\n",
    "print np.linalg.eig(M)"
   ]
  },
  {
   "cell_type": "code",
   "execution_count": 35,
   "metadata": {
    "collapsed": false
   },
   "outputs": [
    {
     "name": "stdout",
     "output_type": "stream",
     "text": [
      "[[-0.89763785  1.11030505  1.82482722  1.84782496 -0.08291643  0.0605327 ]\n",
      " [ 1.42697155  0.34247275 -0.16800703 -0.07009718 -1.28460311  0.69030019]\n",
      " [-0.54950672  0.79057535  0.88756913 -0.71420096  0.47623207  0.77296635]\n",
      " [ 0.82876728 -0.52324686 -3.39976424  0.66517669 -0.36537225 -0.17882518]\n",
      " [-0.16103582 -1.62444483 -1.48255554  0.2320589   0.0810082  -0.42194881]\n",
      " [ 0.25959496  0.72860097  0.03971838 -1.20687319 -0.80069002 -0.57065759]]\n",
      "[[ 1.84782496  1.84782496  1.82482722  1.84782496  1.84782496  1.84782496]\n",
      " [ 1.42697155  0.34247275  1.42697155  1.42697155  1.42697155  0.69030019]\n",
      " [ 0.88756913  0.79057535  0.88756913  0.88756913  0.88756913  0.77296635]\n",
      " [ 0.82876728  0.82876728  0.82876728  0.66517669  0.82876728 -0.17882518]\n",
      " [-0.16103582  0.2320589   0.2320589   0.2320589   0.0810082   0.2320589 ]\n",
      " [ 0.25959496  0.72860097  0.03971838  0.72860097  0.72860097  0.72860097]]\n",
      "[[ 4.  5.  1.]\n",
      " [ 4.  2.  3.]\n",
      " [ 3.  0.  4.]\n",
      " [ 2.  1.  4.]\n",
      " [ 1.  2.  5.]\n",
      " [ 3.  4.  5.]]\n"
     ]
    }
   ],
   "source": [
    "A = np.random.randn(6,6)\n",
    "Voisin = np.random.randn(6,3)\n",
    "\n",
    "def get_K_min_index(K,A):\n",
    "    for i in A.shape[0]:\n",
    "        index_min = np.argmin(A[i,:])\n",
    "        index_max = np.argmax(A[i,:])\n",
    "        if index_min == i:\n",
    "            A[i,index_min] = A[i,index_max]\n",
    "        for j in range(3):\n",
    "            \"\"\"trouver les voisins les \n",
    "            plus proche de chaque points\"\"\"\n",
    "            index_min = np.argmin(A[i,:])\n",
    "            index_max = np.argmax(A[i,:])\n",
    "            Voisin[i,j] = index_min\n",
    "            A[i,index_min] = A[i,index_max]\n",
    "\n",
    "print A\n",
    "print Voisin"
   ]
  },
  {
   "cell_type": "code",
   "execution_count": 39,
   "metadata": {
    "collapsed": false
   },
   "outputs": [
    {
     "data": {
      "text/plain": [
       "array([[0, 0, 0, ..., 0, 0, 0],\n",
       "       [0, 0, 0, ..., 0, 0, 0],\n",
       "       [0, 0, 0, ..., 0, 0, 0]], dtype=uint8)"
      ]
     },
     "execution_count": 39,
     "metadata": {},
     "output_type": "execute_result"
    }
   ],
   "source": [
    "Xtrain = mnist.data\n",
    "Ytrain = mnist.target\n",
    "Xtrain[[1,2,3]]"
   ]
  },
  {
   "cell_type": "code",
   "execution_count": 75,
   "metadata": {
    "collapsed": false
   },
   "outputs": [
    {
     "ename": "AttributeError",
     "evalue": "'list' object has no attribute 'shape'",
     "output_type": "error",
     "traceback": [
      "\u001b[1;31m---------------------------------------------------------------------------\u001b[0m",
      "\u001b[1;31mAttributeError\u001b[0m                            Traceback (most recent call last)",
      "\u001b[1;32m<ipython-input-75-b675222992a7>\u001b[0m in \u001b[0;36m<module>\u001b[1;34m()\u001b[0m\n\u001b[0;32m      2\u001b[0m \u001b[0mreg\u001b[0m \u001b[1;33m=\u001b[0m \u001b[0mlinear_model\u001b[0m\u001b[1;33m.\u001b[0m\u001b[0mLinearRegression\u001b[0m\u001b[1;33m(\u001b[0m\u001b[1;33m)\u001b[0m\u001b[1;33m\u001b[0m\u001b[0m\n\u001b[0;32m      3\u001b[0m \u001b[0mreg\u001b[0m\u001b[1;33m.\u001b[0m\u001b[0mfit\u001b[0m \u001b[1;33m(\u001b[0m\u001b[1;33m[\u001b[0m\u001b[1;33m[\u001b[0m\u001b[1;36m0\u001b[0m\u001b[1;33m,\u001b[0m \u001b[1;36m0\u001b[0m\u001b[1;33m]\u001b[0m\u001b[1;33m,\u001b[0m \u001b[1;33m[\u001b[0m\u001b[1;36m1\u001b[0m\u001b[1;33m,\u001b[0m \u001b[1;36m1\u001b[0m\u001b[1;33m]\u001b[0m\u001b[1;33m,\u001b[0m \u001b[1;33m[\u001b[0m\u001b[1;36m2\u001b[0m\u001b[1;33m,\u001b[0m \u001b[1;36m2\u001b[0m\u001b[1;33m]\u001b[0m\u001b[1;33m]\u001b[0m\u001b[1;33m,\u001b[0m \u001b[1;33m[\u001b[0m\u001b[1;36m0\u001b[0m\u001b[1;33m,\u001b[0m \u001b[1;36m1\u001b[0m\u001b[1;33m,\u001b[0m \u001b[1;36m2\u001b[0m\u001b[1;33m]\u001b[0m\u001b[1;33m)\u001b[0m\u001b[1;33m\u001b[0m\u001b[0m\n\u001b[1;32m----> 4\u001b[1;33m \u001b[1;32mprint\u001b[0m \u001b[1;33m[\u001b[0m\u001b[1;33m[\u001b[0m\u001b[1;36m0\u001b[0m\u001b[1;33m,\u001b[0m \u001b[1;36m0\u001b[0m\u001b[1;33m]\u001b[0m\u001b[1;33m,\u001b[0m \u001b[1;33m[\u001b[0m\u001b[1;36m1\u001b[0m\u001b[1;33m,\u001b[0m \u001b[1;36m1\u001b[0m\u001b[1;33m]\u001b[0m\u001b[1;33m,\u001b[0m \u001b[1;33m[\u001b[0m\u001b[1;36m2\u001b[0m\u001b[1;33m,\u001b[0m \u001b[1;36m2\u001b[0m\u001b[1;33m]\u001b[0m\u001b[1;33m]\u001b[0m\u001b[1;33m.\u001b[0m\u001b[0mshape\u001b[0m\u001b[1;33m\u001b[0m\u001b[0m\n\u001b[0m\u001b[0;32m      5\u001b[0m \u001b[0mreg\u001b[0m\u001b[1;33m.\u001b[0m\u001b[0mcoef_\u001b[0m\u001b[1;33m\u001b[0m\u001b[0m\n",
      "\u001b[1;31mAttributeError\u001b[0m: 'list' object has no attribute 'shape'"
     ]
    }
   ],
   "source": [
    "from sklearn import linear_model\n",
    "reg = linear_model.LinearRegression()\n",
    "reg.fit ([[0, 0], [1, 1], [2, 2]], [0, 1, 2])\n",
    "print [[0, 0], [1, 1], [2, 2]]\n",
    "reg.coef_\n"
   ]
  },
  {
   "cell_type": "code",
   "execution_count": null,
   "metadata": {
    "collapsed": true
   },
   "outputs": [],
   "source": []
  }
 ],
 "metadata": {
  "anaconda-cloud": {},
  "kernelspec": {
   "display_name": "Python [conda root]",
   "language": "python",
   "name": "conda-root-py"
  },
  "language_info": {
   "codemirror_mode": {
    "name": "ipython",
    "version": 2
   },
   "file_extension": ".py",
   "mimetype": "text/x-python",
   "name": "python",
   "nbconvert_exporter": "python",
   "pygments_lexer": "ipython2",
   "version": "2.7.12"
  }
 },
 "nbformat": 4,
 "nbformat_minor": 0
}
