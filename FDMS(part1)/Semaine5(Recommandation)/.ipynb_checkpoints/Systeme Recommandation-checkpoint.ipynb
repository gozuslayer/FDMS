{
 "cells": [
  {
   "cell_type": "code",
   "execution_count": 1,
   "metadata": {
    "ExecuteTime": {
     "end_time": "2017-02-21T02:04:36.412285",
     "start_time": "2017-02-21T02:04:36.299446"
    },
    "collapsed": true
   },
   "outputs": [],
   "source": [
    "import numpy as np\n",
    "import matplotlib.pyplot as plt"
   ]
  },
  {
   "cell_type": "markdown",
   "metadata": {},
   "source": [
    "# Données"
   ]
  },
  {
   "cell_type": "code",
   "execution_count": 2,
   "metadata": {
    "ExecuteTime": {
     "end_time": "2017-02-21T02:04:36.738865",
     "start_time": "2017-02-21T02:04:36.731933"
    },
    "collapsed": true
   },
   "outputs": [],
   "source": [
    "def loadMovieLens(path='../Data/ml-100k'):\n",
    "    # Get movie titles | not very useful here\n",
    "    movies={}\n",
    "    for line in open(path+'/u.item'):\n",
    "        (id,title)=line.split('|')[0:2]\n",
    "        movies[id]=title\n",
    "\n",
    "    # Load data\n",
    "    prefs={} #dic {user :{item : rating}}\n",
    "    times={} #dic {user :{item : timestamps}}\n",
    "    for line in open(path+'/u.data'):\n",
    "        (user,movieid,rating,ts)=line.split('\\t')\n",
    "        prefs.setdefault(user,{})\n",
    "        prefs[user][movies[movieid]]=float(rating)\n",
    "        times.setdefault(user,{})\n",
    "        times[user][movies[movieid]]=float(ts)\n",
    "    return prefs,times\n"
   ]
  },
  {
   "cell_type": "code",
   "execution_count": 16,
   "metadata": {
    "ExecuteTime": {
     "end_time": "2017-02-21T02:04:37.249722",
     "start_time": "2017-02-21T02:04:37.246236"
    },
    "collapsed": true
   },
   "outputs": [],
   "source": [
    "def get_triple(data):\n",
    "    '''returns triples user,item,value with dic {user :{item : value}}'''\n",
    "    triple = []\n",
    "    for u in data.keys():\n",
    "        for i in data[u].keys():\n",
    "            triple.append([u,i,data[u][i]])\n",
    "    return triple\n",
    "\n",
    "def get_dic_for_user(triples):\n",
    "    ''' for Baseline'''\n",
    "    dic_users={}\n",
    "    for t in triples:\n",
    "        if not t[0] in dic_users:\n",
    "            dic_users[t[0]]={}\n",
    "        dic_users[t[0]][t[1]]=float(t[2])\n",
    "    return dic_users\n",
    "\n",
    "\n",
    "def get_dic_for_item(triples):\n",
    "    ''' for Baseline'''\n",
    "    dic_users={}\n",
    "    for t in triples:\n",
    "        if not t[0] in dic_users:\n",
    "            dic_users[t[1]]={}\n",
    "        dic_users[t[1]][t[0]]=float(t[2])\n",
    "    return dic_users\n",
    "\n",
    "def getTimeBins(triples, timedic, nbins):\n",
    "    ''' decoupage en nbins des timestamps'''\n",
    "    timestamps = np.zeros(len(triples))\n",
    "    for i,c in enumerate(triples):\n",
    "        timestamps[i] = timedic[c[0]][c[1]]\n",
    "    time_bins = np.linspace(np.min(timestamps), np.max(timestamps), nbins+1)\n",
    "    times = np.zeros(len(triples))\n",
    "    for i in xrange(1,len(time_bins)):\n",
    "        times = times + (timestamps > time_bins[i])\n",
    "    return times"
   ]
  },
  {
   "cell_type": "code",
   "execution_count": 4,
   "metadata": {
    "ExecuteTime": {
     "end_time": "2017-02-21T02:04:37.649578",
     "start_time": "2017-02-21T02:04:37.646438"
    },
    "collapsed": true
   },
   "outputs": [],
   "source": [
    "def splitTrainTest(triples, split_pourcent) :\n",
    "    perm = np.random.permutation(triples)\n",
    "    Index = int(split_pourcent * len(triples))\n",
    "    return perm[Index:], perm[:Index]"
   ]
  },
  {
   "cell_type": "markdown",
   "metadata": {},
   "source": [
    "# Baseline"
   ]
  },
  {
   "cell_type": "markdown",
   "metadata": {},
   "source": [
    "Dans le but d'évaluer notre modèle, nous comparerons nos modèles à une baseline. Deux modèles simples peuvent être envisagé: note moyenne par utilisateur et note moyenne par item. On attribue à notre ensemble test soit la moyenne de l'utilisateur ou la moyenne de l'item (ici le film)."
   ]
  },
  {
   "cell_type": "code",
   "execution_count": 63,
   "metadata": {
    "collapsed": false
   },
   "outputs": [],
   "source": [
    "class MeanUsers():\n",
    "    def __init__(self):\n",
    "        self.mean = {}\n",
    "        \n",
    "    def fit(self, userData):\n",
    "        for user in userData.keys():\n",
    "            #Initialisation de la moyenne\n",
    "            self.mean[user] = 0\n",
    "            for item in userData[user].keys():\n",
    "                self.mean[user] = self.mean[user] + userData[user][item]\n",
    "            self.mean[user] = self.mean[user] / len(userData[user])\n",
    "            \n",
    "    def predict(self, triple_test):\n",
    "        pred = np.zeros(len(triple_test))\n",
    "        for ind,c in enumerate(triple_test):\n",
    "            pred[ind] = self.mean[c[0]]\n",
    "        return pred\n",
    "    \n",
    "    def score(self,triples_test):\n",
    "        pred = self.predict(triples_test)\n",
    "        return ((pred - np.array(triples_test[:,2], float)) ** 2).mean()\n",
    "\n",
    "class MeanItems():\n",
    "    def __init__(self):            \n",
    "        self.mean = {}\n",
    "        \n",
    "    def fit(self, itemData):\n",
    "        for item in itemData.keys():\n",
    "            #Initialisation de la moyenne\n",
    "            self.mean[item] = 0\n",
    "            for user in itemData[item].keys():\n",
    "                self.mean[item] = self.mean[item] + itemData[item][user]\n",
    "            self.mean[item] = self.mean[item] / len(itemData[item])\n",
    "            \n",
    "    def predict(self, triple_test):\n",
    "        pred = np.zeros(len(triple_test))\n",
    "        for ind,t in enumerate(triple_test):\n",
    "            pred[ind] = self.mean[t[1]]\n",
    "        return pred\n",
    "    \n",
    "    def score(self,triples_test):\n",
    "        pred = self.predict(triples_test)\n",
    "        return ((pred - np.array(triples_test[:,2], float)) ** 2).mean()"
   ]
  },
  {
   "cell_type": "markdown",
   "metadata": {},
   "source": [
    "# Factorisation matricielle sans Biais"
   ]
  },
  {
   "cell_type": "code",
   "execution_count": 76,
   "metadata": {
    "ExecuteTime": {
     "end_time": "2017-02-21T02:30:07.780654",
     "start_time": "2017-02-21T02:30:07.731255"
    },
    "collapsed": false
   },
   "outputs": [],
   "source": [
    "class Factorisation_Matricielle():\n",
    "    '''Systeme de recommandation avec factorisation matricielle\n",
    "    Classique L2 sans bias\n",
    "    '''\n",
    "    \n",
    "    def __init__(self, k, eps=0.001, max_epoch=1000, lamb=0.5, alternate=False):\n",
    "        '''constructeur\n",
    "        k: Dimension espace latent\n",
    "        eps : pas du gradient\n",
    "        max_epoch: nombre maximum d iteration \n",
    "        lamb : coefficient de regularisation\n",
    "        alternate : optimisation alternée ou non\n",
    "        '''\n",
    "        self.k = k\n",
    "        self.lamb = lamb\n",
    "        self.eps = eps\n",
    "        self.max_epoch = max_epoch\n",
    "        self.alternate = alternate\n",
    "\n",
    "        \n",
    "    def fit(self,triples):\n",
    "        #self.p matrice des users\n",
    "        #self.q matrice des items\n",
    "        self.p = {}\n",
    "        self.q = {}\n",
    "        \n",
    "        #Initialisation du Loss   \n",
    "        self.loss = []\n",
    "        \n",
    "        #optimisation alterné ou non\n",
    "        if self.alternate:\n",
    "            optimize_p = True\n",
    "            optimize_q = False\n",
    "        else:\n",
    "            optimize_p = True\n",
    "            optimize_q = True\n",
    "        \n",
    "        #initialisation des matrices d'embeddings\n",
    "        for j in range(len(triples)):\n",
    "                u = triples[j][0]\n",
    "                i = triples[j][1]\n",
    "                #On verifie si l'item et le user existe\n",
    "                if u not in self.p.keys():\n",
    "                    self.p[u] = np.random.rand(1,self.k) \n",
    "                if i not in self.q.keys():\n",
    "                    self.q[i] = np.random.rand(self.k,1)  \n",
    "        \n",
    "        #Descente de gradient\n",
    "        for it in range(self.max_epoch):\n",
    "            loss = 0\n",
    "            for j in range(len(triples)):\n",
    "                ind = np.random.randint(len(triples))\n",
    "                u = triples[ind][0] #user\n",
    "                i = triples[ind][1] #item \n",
    "                r = triples[ind][2] #rating\n",
    "\n",
    "                tmp = float(r)  - np.asscalar(self.p[u].dot(self.q[i]))\n",
    "                if optimize_p:\n",
    "                    self.p[u] = self.p[u] - self.lamb * self.eps * self.p[u] + self.eps * 2 * tmp * self.q[i].T\n",
    "                if optimize_q:\n",
    "                    self.q[i] = self.q[i] - self.lamb * self.eps * self.q[i] + self.eps * 2 * tmp * self.p[u].T\n",
    "\n",
    "                loss = loss + tmp*tmp\n",
    "            #optimisation alterné\n",
    "            if self.alternate:\n",
    "                optimize_p,optimize_q = optimize_q,optimize_p\n",
    "                \n",
    "            #affichage du loss\n",
    "            if ((it)%(self.max_epoch*0.1) == 0) :\n",
    "                print \"loss at iteration {} : {}\".format(it,loss/len(triples))\n",
    "                print \"\"\n",
    "                \n",
    "                \n",
    "    def predict(self, triplet_test):\n",
    "        pred = np.zeros(len(triplet_test))\n",
    "        for ind,t in enumerate(triplet_test):\n",
    "            pred[ind] = np.asscalar(self.p[t[0]].dot(self.q[t[1]]))\n",
    "        return pred\n",
    "    \n",
    "    def score(self,triples_test):\n",
    "        pred = self.predict(triples_test)\n",
    "        return ((pred - np.array(triples_test[:,2], float)) ** 2).mean()\n"
   ]
  },
  {
   "cell_type": "markdown",
   "metadata": {},
   "source": [
    "# Factorisation matricielle avec biais user et item"
   ]
  },
  {
   "cell_type": "markdown",
   "metadata": {},
   "source": [
    "De façon intuitif, on peut généralement observer des biais sur les utilisateurs et sur les items. En effet, certains films sont beaucoup plus notés que d'autres (du a leurs popularité) et certains utilisateurs notent mieux en moyenne mieux que d'autres (optimistes contre pessimistes)\n",
    "\n",
    "Pour prendre en compte ces biais, nous allons conidéré que chaque utilisateur a une note moyenne et chaque item a également une note moyenne."
   ]
  },
  {
   "cell_type": "code",
   "execution_count": 77,
   "metadata": {
    "collapsed": true
   },
   "outputs": [],
   "source": [
    "class Factorisation_Matricielle_Biais_User_Item():\n",
    "    '''Systeme de recommandation avec factorisation matricielle\n",
    "    Classique L2 avec biais utilisateurs et items\n",
    "    '''\n",
    "    \n",
    "    def __init__(self, k, eps=0.001, max_epoch=1000, lamb=0.5, alternate=False):\n",
    "        '''constructeur\n",
    "        k: Dimension espace latent\n",
    "        eps : pas du gradient\n",
    "        max_epoch: nombre maximum d iteration \n",
    "        lamb : coefficient de regularisation\n",
    "        alternate : optimisation alternée ou non\n",
    "        '''\n",
    "        self.k = k\n",
    "        self.lamb = lamb\n",
    "        self.eps = eps\n",
    "        self.max_epoch = max_epoch\n",
    "        self.alternate = alternate\n",
    "\n",
    "        \n",
    "    def fit(self,triples):\n",
    "        #self.p matrice des users\n",
    "        #self.q matrice des items\n",
    "        self.p = {}\n",
    "        self.q = {}\n",
    "        self.bu = {}\n",
    "        self.bi = {}\n",
    "        self.mu = np.random.random() * 2 - 1\n",
    "        \n",
    "        #Initialisation du Loss   \n",
    "        self.loss = []\n",
    "        \n",
    "        #optimisation alterné ou non\n",
    "        if self.alternate:\n",
    "            optimize_p = True\n",
    "            optimize_q = False\n",
    "        else:\n",
    "            optimize_p = True\n",
    "            optimize_q = True\n",
    "        \n",
    "        #initialisation des matrices d'embeddings\n",
    "        for j in range(len(triples)):\n",
    "                u = triples[j][0]\n",
    "                i = triples[j][1]\n",
    "                #On verifie si l'item et le user existe\n",
    "                if u not in self.p.keys():\n",
    "                    self.p[u] = np.random.rand(1,self.k)\n",
    "                    self.bu[u] = np.random.rand() * 2 - 1\n",
    "                if i not in self.q.keys():\n",
    "                    self.q[i] = np.random.rand(self.k,1) \n",
    "                    self.bi[i] = np.random.rand() * 2 - 1\n",
    "        \n",
    "        #Descente de gradient\n",
    "        for it in range(self.max_epoch):\n",
    "            loss = 0\n",
    "            for j in range(len(triples)):\n",
    "                ind = np.random.randint(len(triples))\n",
    "                u = triples[ind][0] #user\n",
    "                i = triples[ind][1] #item \n",
    "                r = triples[ind][2] #rating\n",
    "\n",
    "                tmp = float(r)  - np.asscalar(self.p[u].dot(self.q[i])) - self.mu - self.bi[i] - self.bu[u]\n",
    "                if optimize_p:\n",
    "                    self.p[u] = self.p[u] - self.lamb * self.eps * self.p[u] + self.eps * 2 * tmp * self.q[i].T\n",
    "                    self.bu[u] = (1 - self.lamb * self.eps) * self.bu[u] + self.eps * 2 * tmp\n",
    "                if optimize_q:\n",
    "                    self.q[i] = self.q[i] - self.lamb * self.eps * self.q[i] + self.eps * 2 * tmp * self.p[u].T\n",
    "                    self.bi[i] = (1 - self.lamb * self.eps) * self.bi[i] + self.eps * 2 * tmp\n",
    "                self.mu = (1 - self.lamb * self.eps) * self.mu + self.eps * 2 * tmp\n",
    "                loss = loss + tmp*tmp\n",
    "            #optimisation alterné\n",
    "            if self.alternate:\n",
    "                optimize_p,optimize_q = optimize_q,optimize_p\n",
    "                \n",
    "            #affichage du loss\n",
    "            if ((it)%(self.max_epoch*0.1) == 0) :\n",
    "                print \"loss at iteration {} : {}\".format(it,loss/len(triples))\n",
    "                print \"\"\n",
    "                \n",
    "                \n",
    "    def predict(self, triplet_test):\n",
    "        pred = np.zeros(len(triplet_test))\n",
    "        for ind,t in enumerate(triplet_test):\n",
    "            pred[ind] = self.mu + self.bu[t[0]] + self.bi[t[1]] + np.asscalar(self.p[t[0]].dot(self.q[t[1]]))\n",
    "        return pred\n",
    "    \n",
    "    def score(self,triples_test):\n",
    "        pred = self.predict(triples_test)\n",
    "        return ((pred - np.array(triples_test[:,2], float)) ** 2).mean()"
   ]
  },
  {
   "cell_type": "markdown",
   "metadata": {},
   "source": [
    "# Factorisation matricielle avec biais user,item et temporel"
   ]
  },
  {
   "cell_type": "markdown",
   "metadata": {},
   "source": [
    "On observe également un biais temporel sur les notes. En effet, dans une courbe présenté par M. Denoyer, nous observons que les utilisateurs ont tendances à plus noter selon certaines périodes de l'année (par exemple Noel)."
   ]
  },
  {
   "cell_type": "code",
   "execution_count": 112,
   "metadata": {
    "collapsed": true
   },
   "outputs": [],
   "source": [
    "class Factorisation_Matricielle_Biais_User_Item_Temporel():\n",
    "    '''Systeme de recommandation avec factorisation matricielle\n",
    "    Classique L2 avec biais utilisateurs et items et temporel\n",
    "    '''\n",
    "    \n",
    "    def __init__(self, k=10, bins_times = 5, eps=0.001, max_epoch=1000, lamb=0.5, alternate=False):\n",
    "        '''constructeur\n",
    "        k: Dimension espace latent\n",
    "        eps : pas du gradient\n",
    "        max_epoch: nombre maximum d iteration \n",
    "        lamb : coefficient de regularisation\n",
    "        alternate : optimisation alternée ou non\n",
    "        '''\n",
    "        self.k = k\n",
    "        self.bins_times = bins_times\n",
    "        self.lamb = lamb\n",
    "        self.eps = eps\n",
    "        self.max_epoch = max_epoch\n",
    "        self.alternate = alternate\n",
    "\n",
    "        \n",
    "    def fit(self,triples,times):\n",
    "        #self.p matrice des users\n",
    "        #self.q matrice des items\n",
    "        self.p = {}\n",
    "        self.q = {}\n",
    "        self.bu = {}\n",
    "        self.bi = {}\n",
    "        self.mu = np.random.random(self.bins_times) * 2 - 1\n",
    "        \n",
    "        #Initialisation du Loss   \n",
    "        self.loss = []\n",
    "        \n",
    "        #optimisation alterné ou non\n",
    "        if self.alternate:\n",
    "            optimize_p = True\n",
    "            optimize_q = False\n",
    "        else:\n",
    "            optimize_p = True\n",
    "            optimize_q = True\n",
    "        \n",
    "        #initialisation des matrices d'embeddings\n",
    "        for j in range(len(triples)):\n",
    "                u = triples[j][0]\n",
    "                i = triples[j][1]\n",
    "                #On verifie si l'item et le user existe\n",
    "                if u not in self.p.keys():\n",
    "                    self.p[u] = np.random.rand(1,self.k)\n",
    "                    self.bu[u] = np.random.rand(self.bins_times) * 2 - 1\n",
    "                if i not in self.q.keys():\n",
    "                    self.q[i] = np.random.rand(self.k,1)\n",
    "                    self.bi[i] = np.random.rand(self.bins_times) * 2 - 1\n",
    "        \n",
    "        #Descente de gradient\n",
    "        for it in range(50):\n",
    "            loss = 0\n",
    "            for j in range(len(triples)):\n",
    "                ind = np.random.randint(len(triples))\n",
    "                u = triples[ind][0] #user\n",
    "                i = triples[ind][1] #item \n",
    "                r = triples[ind][2] #rating\n",
    "                time = times[ind]\n",
    "\n",
    "                tmp = float(r)  - np.asscalar(self.p[u].dot(self.q[i])) - self.mu[time] - self.bi[i][time] - self.bu[u][time]\n",
    "                if optimize_p:\n",
    "                    self.p[u] = self.p[u] - self.lamb * self.eps * self.p[u] + self.eps * 2 * tmp * self.q[i].T\n",
    "                    self.bu[u][time] = (1 - self.lamb * self.eps) * self.bu[u][time] + self.eps * 2 * tmp\n",
    "                if optimize_q:\n",
    "                    self.q[i] = self.q[i] - self.lamb * self.eps * self.q[i] + self.eps * 2 * tmp * self.p[u].T\n",
    "                    self.bi[i][time] = (1 - self.lamb * self.eps) * self.bi[i][time] + self.eps * 2 * tmp\n",
    "                self.mu[time] = (1 - self.lamb * self.eps) * self.mu[time] + self.eps * 2 * tmp\n",
    "                loss = loss + tmp*tmp\n",
    "            self.loss.append(loss)\n",
    "            #optimisation alterné\n",
    "            if self.alternate:\n",
    "                optimize_p,optimize_q = optimize_q,optimize_p\n",
    "                \n",
    "            #affichage du loss\n",
    "            if ((it)%(self.max_epoch*0.1) == 0) :\n",
    "                print \"loss at iteration {} : {}\".format(it,loss/len(triples))\n",
    "                print \"\"\n",
    "                \n",
    "                \n",
    "    def predict(self, triplet_test,times):\n",
    "        pred = np.zeros(len(triplet_test))\n",
    "        for ind,t in enumerate(triplet_test):\n",
    "            pred[ind] = self.mu[times[ind]] + self.bu[t[0]][times[ind]] + self.bi[t[1]][times[ind]] + np.asscalar(self.p[t[0]].dot(self.q[t[1]]))\n",
    "        return pred\n",
    "    \n",
    "    def score(self,triples_test):\n",
    "        pred = self.predict(triples_test)\n",
    "        return ((pred - np.array(triples_test[:,2], float)) ** 2).mean()"
   ]
  },
  {
   "cell_type": "markdown",
   "metadata": {},
   "source": [
    "# Comparaison des modeles"
   ]
  },
  {
   "cell_type": "markdown",
   "metadata": {},
   "source": [
    "## Preparation des données"
   ]
  },
  {
   "cell_type": "code",
   "execution_count": 113,
   "metadata": {
    "collapsed": false
   },
   "outputs": [],
   "source": [
    "data, times = loadMovieLens()\n",
    "triples = get_triple(data)\n",
    "\n",
    "triples_train, triples_test = splitTrainTest(triples , 0.1)\n",
    "\n",
    "UserData_train = get_dic_for_user(triples_train)\n",
    "ItemData_train = get_dic_for_item(triples_train)\n"
   ]
  },
  {
   "cell_type": "code",
   "execution_count": 118,
   "metadata": {
    "collapsed": false
   },
   "outputs": [],
   "source": [
    "def userInTrain(triples_train):\n",
    "    user = []\n",
    "    for element in triples_train:\n",
    "        user.append(element[0])\n",
    "    return set(user)\n",
    "\n",
    "def itemInTrain(triples_train):\n",
    "    item = []\n",
    "    for element in triples_train:\n",
    "        item.append(element[1])\n",
    "    return set(item)\n",
    "\n",
    "def delUserItemFromTest(triples_test,userTrain,itemTrain):\n",
    "    toDel = []\n",
    "    for i,t in enumerate(triples_test):\n",
    "        if t[0] not in userTrain:\n",
    "            toDel.append(i)\n",
    "        elif t[1] not in itemTrain:\n",
    "            toDel.append(i)\n",
    "    return np.delete(triples_test, toDel, 0)\n"
   ]
  },
  {
   "cell_type": "code",
   "execution_count": 119,
   "metadata": {
    "collapsed": false
   },
   "outputs": [],
   "source": [
    "userTrain = userInTrain(triples_train)\n",
    "itemTrain = itemInTrain(triples_train)\n",
    "\n",
    "#supression des triples dont on ne connait ni le user ou litem\n",
    "triples_test = delUserItemFromTest(triples_test,userTrain,itemTrain)\n",
    "\n",
    "UserData_test = get_dic_for_user(triples_test)\n",
    "ItemData_test = get_dic_for_item(triples_test)\n"
   ]
  },
  {
   "cell_type": "code",
   "execution_count": 120,
   "metadata": {
    "collapsed": false
   },
   "outputs": [
    {
     "name": "stdout",
     "output_type": "stream",
     "text": [
      "(9956, 3)\n",
      "(89724, 3)\n"
     ]
    }
   ],
   "source": [
    "print triples_test.shape\n",
    "print triples_train.shape"
   ]
  },
  {
   "cell_type": "code",
   "execution_count": 121,
   "metadata": {
    "collapsed": false
   },
   "outputs": [],
   "source": [
    "bins_times = 5\n",
    "trainTimes = getTimeBins(triples_train, times, bins_times)\n",
    "testTimes = getTimeBins(triples_test, times, bins_times)\n"
   ]
  },
  {
   "cell_type": "code",
   "execution_count": 122,
   "metadata": {
    "collapsed": false
   },
   "outputs": [
    {
     "name": "stdout",
     "output_type": "stream",
     "text": [
      "test erreur moyenne user: 1.08640355831\n"
     ]
    }
   ],
   "source": [
    "MeanUser = MeanUsers()\n",
    "MeanUser.fit(UserData_train)\n",
    "print 'test erreur moyenne user: {}'.format(MeanUser.score(triples_test))"
   ]
  },
  {
   "cell_type": "code",
   "execution_count": 123,
   "metadata": {
    "collapsed": false
   },
   "outputs": [
    {
     "name": "stdout",
     "output_type": "stream",
     "text": [
      "test erreur moyenne item: 2.18119726798\n"
     ]
    }
   ],
   "source": [
    "MeanItem = MeanItems()\n",
    "MeanItem.fit(ItemData_train)\n",
    "print 'test erreur moyenne item: {}'.format(MeanItem.score(triples_test))"
   ]
  },
  {
   "cell_type": "code",
   "execution_count": 86,
   "metadata": {
    "ExecuteTime": {
     "end_time": "2017-02-21T02:31:15.344541",
     "start_time": "2017-02-21T02:30:08.417302"
    },
    "collapsed": false
   },
   "outputs": [
    {
     "name": "stdout",
     "output_type": "stream",
     "text": [
      "loss at iteration 0 : 3.74304610439\n",
      "\n",
      "loss at iteration 5 : 0.968604039549\n",
      "\n",
      "loss at iteration 10 : 0.895185149817\n",
      "\n",
      "loss at iteration 15 : 0.867189257012\n",
      "\n",
      "loss at iteration 20 : 0.856250716388\n",
      "\n",
      "loss at iteration 25 : 0.846256291322\n",
      "\n",
      "loss at iteration 30 : 0.845500139891\n",
      "\n",
      "loss at iteration 35 : 0.839855166803\n",
      "\n",
      "loss at iteration 40 : 0.83257425937\n",
      "\n",
      "loss at iteration 45 : 0.831192840806\n",
      "\n"
     ]
    }
   ],
   "source": [
    "k = 5\n",
    "eps = 0.001\n",
    "max_epoch = 50\n",
    "lamb = 0.2\n",
    "SR = Factorisation_Matricielle(k,eps,max_epoch,lamb)\n",
    "SR.fit(triples_train)"
   ]
  },
  {
   "cell_type": "code",
   "execution_count": 88,
   "metadata": {
    "collapsed": false
   },
   "outputs": [
    {
     "name": "stdout",
     "output_type": "stream",
     "text": [
      "test erreur sans biais: 0.887710342468\n"
     ]
    }
   ],
   "source": [
    "print 'test erreur sans biais: {}'.format(SR.score(triples_test))"
   ]
  },
  {
   "cell_type": "code",
   "execution_count": 90,
   "metadata": {
    "ExecuteTime": {
     "end_time": "2017-02-21T02:27:53.715898",
     "start_time": "2017-02-21T02:27:53.657910"
    },
    "collapsed": false
   },
   "outputs": [
    {
     "name": "stdout",
     "output_type": "stream",
     "text": [
      "loss at iteration 0 : 1.65900375771\n",
      "\n",
      "loss at iteration 5 : 0.94440218995\n",
      "\n",
      "loss at iteration 10 : 0.881711567467\n",
      "\n",
      "loss at iteration 15 : 0.865785005575\n",
      "\n",
      "loss at iteration 20 : 0.85178152145\n",
      "\n",
      "loss at iteration 25 : 0.847941690379\n",
      "\n",
      "loss at iteration 30 : 0.842054102166\n",
      "\n",
      "loss at iteration 35 : 0.837511524624\n",
      "\n",
      "loss at iteration 40 : 0.826877275397\n",
      "\n",
      "loss at iteration 45 : 0.826918907865\n",
      "\n"
     ]
    }
   ],
   "source": [
    "SR_with_bias = Factorisation_Matricielle_Biais_User_Item(k,eps,max_epoch,lamb)\n",
    "SR_with_bias.fit(triples_train)"
   ]
  },
  {
   "cell_type": "code",
   "execution_count": 92,
   "metadata": {
    "collapsed": false
   },
   "outputs": [
    {
     "name": "stdout",
     "output_type": "stream",
     "text": [
      "test erreur sans biais: 0.886626674726\n"
     ]
    }
   ],
   "source": [
    "print 'test erreur sans biais: {}'.format(SR_with_bias.score(triples_test))"
   ]
  },
  {
   "cell_type": "code",
   "execution_count": 124,
   "metadata": {
    "ExecuteTime": {
     "end_time": "2017-02-21T02:29:18.533222",
     "start_time": "2017-02-21T02:27:54.482703"
    },
    "collapsed": false,
    "scrolled": true
   },
   "outputs": [
    {
     "name": "stderr",
     "output_type": "stream",
     "text": [
      "/home/gozuslayer/anaconda2/lib/python2.7/site-packages/ipykernel/__main__.py:29: VisibleDeprecationWarning: using a non-integer number instead of an integer will result in an error in the future\n",
      "/home/gozuslayer/anaconda2/lib/python2.7/site-packages/ipykernel/__main__.py:49: VisibleDeprecationWarning: using a non-integer number instead of an integer will result in an error in the future\n",
      "/home/gozuslayer/anaconda2/lib/python2.7/site-packages/ipykernel/__main__.py:52: VisibleDeprecationWarning: using a non-integer number instead of an integer will result in an error in the future\n",
      "/home/gozuslayer/anaconda2/lib/python2.7/site-packages/ipykernel/__main__.py:64: VisibleDeprecationWarning: using a non-integer number instead of an integer will result in an error in the future\n"
     ]
    },
    {
     "ename": "IndexError",
     "evalue": "index 3 is out of bounds for axis 0 with size 0",
     "output_type": "error",
     "traceback": [
      "\u001b[0;31m---------------------------------------------------------------------------\u001b[0m",
      "\u001b[0;31mIndexError\u001b[0m                                Traceback (most recent call last)",
      "\u001b[0;32m<ipython-input-124-1eae28da03f8>\u001b[0m in \u001b[0;36m<module>\u001b[0;34m()\u001b[0m\n\u001b[1;32m      1\u001b[0m \u001b[0mSR_with_bias_temp\u001b[0m \u001b[0;34m=\u001b[0m \u001b[0mFactorisation_Matricielle_Biais_User_Item_Temporel\u001b[0m\u001b[0;34m(\u001b[0m\u001b[0mk\u001b[0m\u001b[0;34m,\u001b[0m\u001b[0meps\u001b[0m\u001b[0;34m,\u001b[0m\u001b[0mmax_epoch\u001b[0m\u001b[0;34m,\u001b[0m\u001b[0mlamb\u001b[0m\u001b[0;34m)\u001b[0m\u001b[0;34m\u001b[0m\u001b[0m\n\u001b[0;32m----> 2\u001b[0;31m \u001b[0mSR_with_bias_temp\u001b[0m\u001b[0;34m.\u001b[0m\u001b[0mfit\u001b[0m\u001b[0;34m(\u001b[0m\u001b[0mtriples_train\u001b[0m\u001b[0;34m,\u001b[0m\u001b[0mtrainTimes\u001b[0m\u001b[0;34m)\u001b[0m\u001b[0;34m\u001b[0m\u001b[0m\n\u001b[0m",
      "\u001b[0;32m<ipython-input-112-3185a88c769b>\u001b[0m in \u001b[0;36mfit\u001b[0;34m(self, triples, times)\u001b[0m\n\u001b[1;32m     62\u001b[0m                 \u001b[0mtime\u001b[0m \u001b[0;34m=\u001b[0m \u001b[0mtimes\u001b[0m\u001b[0;34m[\u001b[0m\u001b[0mind\u001b[0m\u001b[0;34m]\u001b[0m\u001b[0;34m\u001b[0m\u001b[0m\n\u001b[1;32m     63\u001b[0m \u001b[0;34m\u001b[0m\u001b[0m\n\u001b[0;32m---> 64\u001b[0;31m                 \u001b[0mtmp\u001b[0m \u001b[0;34m=\u001b[0m \u001b[0mfloat\u001b[0m\u001b[0;34m(\u001b[0m\u001b[0mr\u001b[0m\u001b[0;34m)\u001b[0m  \u001b[0;34m-\u001b[0m \u001b[0mnp\u001b[0m\u001b[0;34m.\u001b[0m\u001b[0masscalar\u001b[0m\u001b[0;34m(\u001b[0m\u001b[0mself\u001b[0m\u001b[0;34m.\u001b[0m\u001b[0mp\u001b[0m\u001b[0;34m[\u001b[0m\u001b[0mu\u001b[0m\u001b[0;34m]\u001b[0m\u001b[0;34m.\u001b[0m\u001b[0mdot\u001b[0m\u001b[0;34m(\u001b[0m\u001b[0mself\u001b[0m\u001b[0;34m.\u001b[0m\u001b[0mq\u001b[0m\u001b[0;34m[\u001b[0m\u001b[0mi\u001b[0m\u001b[0;34m]\u001b[0m\u001b[0;34m)\u001b[0m\u001b[0;34m)\u001b[0m \u001b[0;34m-\u001b[0m \u001b[0mself\u001b[0m\u001b[0;34m.\u001b[0m\u001b[0mmu\u001b[0m\u001b[0;34m[\u001b[0m\u001b[0mtime\u001b[0m\u001b[0;34m]\u001b[0m \u001b[0;34m-\u001b[0m \u001b[0mself\u001b[0m\u001b[0;34m.\u001b[0m\u001b[0mbi\u001b[0m\u001b[0;34m[\u001b[0m\u001b[0mi\u001b[0m\u001b[0;34m]\u001b[0m\u001b[0;34m[\u001b[0m\u001b[0mtime\u001b[0m\u001b[0;34m]\u001b[0m \u001b[0;34m-\u001b[0m \u001b[0mself\u001b[0m\u001b[0;34m.\u001b[0m\u001b[0mbu\u001b[0m\u001b[0;34m[\u001b[0m\u001b[0mu\u001b[0m\u001b[0;34m]\u001b[0m\u001b[0;34m[\u001b[0m\u001b[0mtime\u001b[0m\u001b[0;34m]\u001b[0m\u001b[0;34m\u001b[0m\u001b[0m\n\u001b[0m\u001b[1;32m     65\u001b[0m                 \u001b[0;32mif\u001b[0m \u001b[0moptimize_p\u001b[0m\u001b[0;34m:\u001b[0m\u001b[0;34m\u001b[0m\u001b[0m\n\u001b[1;32m     66\u001b[0m                     \u001b[0mself\u001b[0m\u001b[0;34m.\u001b[0m\u001b[0mp\u001b[0m\u001b[0;34m[\u001b[0m\u001b[0mu\u001b[0m\u001b[0;34m]\u001b[0m \u001b[0;34m=\u001b[0m \u001b[0mself\u001b[0m\u001b[0;34m.\u001b[0m\u001b[0mp\u001b[0m\u001b[0;34m[\u001b[0m\u001b[0mu\u001b[0m\u001b[0;34m]\u001b[0m \u001b[0;34m-\u001b[0m \u001b[0mself\u001b[0m\u001b[0;34m.\u001b[0m\u001b[0mlamb\u001b[0m \u001b[0;34m*\u001b[0m \u001b[0mself\u001b[0m\u001b[0;34m.\u001b[0m\u001b[0meps\u001b[0m \u001b[0;34m*\u001b[0m \u001b[0mself\u001b[0m\u001b[0;34m.\u001b[0m\u001b[0mp\u001b[0m\u001b[0;34m[\u001b[0m\u001b[0mu\u001b[0m\u001b[0;34m]\u001b[0m \u001b[0;34m+\u001b[0m \u001b[0mself\u001b[0m\u001b[0;34m.\u001b[0m\u001b[0meps\u001b[0m \u001b[0;34m*\u001b[0m \u001b[0;36m2\u001b[0m \u001b[0;34m*\u001b[0m \u001b[0mtmp\u001b[0m \u001b[0;34m*\u001b[0m \u001b[0mself\u001b[0m\u001b[0;34m.\u001b[0m\u001b[0mq\u001b[0m\u001b[0;34m[\u001b[0m\u001b[0mi\u001b[0m\u001b[0;34m]\u001b[0m\u001b[0;34m.\u001b[0m\u001b[0mT\u001b[0m\u001b[0;34m\u001b[0m\u001b[0m\n",
      "\u001b[0;31mIndexError\u001b[0m: index 3 is out of bounds for axis 0 with size 0"
     ]
    }
   ],
   "source": [
    "SR_with_bias_temp = Factorisation_Matricielle_Biais_User_Item_Temporel(k,eps,max_epoch,lamb)\n",
    "SR_with_bias_temp.fit(triples_train,trainTimes)"
   ]
  },
  {
   "cell_type": "code",
   "execution_count": null,
   "metadata": {
    "collapsed": true
   },
   "outputs": [],
   "source": []
  }
 ],
 "metadata": {
  "kernelspec": {
   "display_name": "Python 2",
   "language": "python",
   "name": "python2"
  },
  "language_info": {
   "codemirror_mode": {
    "name": "ipython",
    "version": 2
   },
   "file_extension": ".py",
   "mimetype": "text/x-python",
   "name": "python",
   "nbconvert_exporter": "python",
   "pygments_lexer": "ipython2",
   "version": "2.7.13"
  },
  "latex_envs": {
   "LaTeX_envs_menu_present": true,
   "bibliofile": "biblio.bib",
   "cite_by": "apalike",
   "current_citInitial": 1,
   "eqLabelWithNumbers": true,
   "eqNumInitial": 1,
   "hotkeys": {
    "equation": "Ctrl-E",
    "itemize": "Ctrl-I"
   },
   "labels_anchors": false,
   "latex_user_defs": false,
   "report_style_numbering": false,
   "user_envs_cfg": false
  }
 },
 "nbformat": 4,
 "nbformat_minor": 2
}
