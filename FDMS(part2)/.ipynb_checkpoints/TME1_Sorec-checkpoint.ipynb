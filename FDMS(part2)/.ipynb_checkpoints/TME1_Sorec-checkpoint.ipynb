{
 "cells": [
  {
   "cell_type": "code",
   "execution_count": 2,
   "metadata": {
    "collapsed": true
   },
   "outputs": [],
   "source": [
    "import numpy as np\n",
    "import matplotlib.pyplot as plt"
   ]
  },
  {
   "cell_type": "code",
   "execution_count": 19,
   "metadata": {
    "collapsed": false
   },
   "outputs": [],
   "source": [
    "def loadMovieLens(path='recodata/',dataTrain = 'u1.train',dataTest='u1.test'):\n",
    "    \"\"\" get triples : (user,movie,rating) ; (source,target,weight=1)\"\"\"\n",
    "    ratings_train = []\n",
    "    ratings_test = []\n",
    "    users = set()\n",
    "    movies = set()\n",
    "    links = []\n",
    "    for line in open(path+dataTrain):\n",
    "        (user,movieid,rating,ts)=line.split('\\t')\n",
    "        ratings_train.append([user,movieid,float(rating)/5])\n",
    "        users.add(user)\n",
    "        movies.add(movieid)\n",
    "        \n",
    "    for line in open(path+dataTest):\n",
    "        (user,movieid,rating,ts)=line.split('\\t')\n",
    "        if (user in users) and (movieid in movies):\n",
    "            ratings_test.append([user,movieid,float(rating)/5])\n",
    "            \n",
    "    for line in open(path+'u.links'):\n",
    "        l = line[:-1].split('\\t')\n",
    "        source = l[0]\n",
    "        #check if source in triples ratings\n",
    "        if source in users:\n",
    "            for target in l[1:]:\n",
    "                #check if target in triples ratings\n",
    "                links.append([source,target,1])\n",
    "                \n",
    "    return ratings_train,ratings_test,links\n"
   ]
  },
  {
   "cell_type": "code",
   "execution_count": 20,
   "metadata": {
    "collapsed": true
   },
   "outputs": [],
   "source": [
    "class SOREC():\n",
    "    '''Model SOREC\n",
    "    '''\n",
    "    def __init__(self, k, lambdaC=0.2, lambdaU=0.2, lambdaV=0.2, lambdaZ=0.2, eps=1e-5, maxIter=2000):\n",
    "        self.k = k\n",
    "        self.lambdaC = lambdaC\n",
    "        self.lambdaU = lambdaU\n",
    "        self.lambdaV = lambdaV\n",
    "        self.lambdaZ = lambdaZ\n",
    "        self.eps = eps\n",
    "        self.maxIter = maxIter\n",
    "        \n",
    "    def fit(self, tripletsUsersItems, tripletsLinks):\n",
    "        self.u = {}\n",
    "        self.v = {}\n",
    "        self.z = {}\n",
    "        self.loss = []\n",
    "        #Choix du paramètre a optimisé en cas d'optimisation alternée\n",
    "        for i in xrange(self.maxIter):\n",
    "            lossUV = 0\n",
    "            lossUZ = 0\n",
    "            lossReg = 0\n",
    "            for j in xrange(len(tripletsUsersItems)):\n",
    "                # Ratings --------------------------------------------------------------------------------------------\n",
    "                r = np.random.randint(len(tripletsUsersItems)) \n",
    "                user =   tripletsUsersItems[r][0]\n",
    "                item =   tripletsUsersItems[r][1]\n",
    "                rating = tripletsUsersItems[r][2]\n",
    "                if not user in self.u:\n",
    "                    self.u[user] = np.random.rand(1,self.k)\n",
    "                if not item in self.v:\n",
    "                    self.v[item] = np.random.rand(self.k,1)\n",
    "                expUV = np.exp(self.u[user].dot(self.v[item])[0][0])\n",
    "                logistiqueUV = (1.0/(1 + expUV))\n",
    "                tmp = logistiqueUV - rating\n",
    "                self.u[user] = self.u[user] - self.eps * tmp * expUV * (logistiqueUV **2) * self.v[item].transpose()\n",
    "                self.v[item] = self.v[item] - self.eps * tmp * expUV * (logistiqueUV **2) * self.u[user].transpose()\n",
    "                lossUV = lossUV + tmp*tmp/2. \n",
    "                # Links ---------------------------------------------------------------------------------------------\n",
    "                r = np.random.randint(len(tripletsLinks))\n",
    "                userSource = tripletsLinks[r][0]\n",
    "                userTarget = tripletsLinks[r][1]\n",
    "                linkScore  = tripletsLinks[r][2]\n",
    "                if not userSource in self.u:\n",
    "                    self.u[userSource] = np.random.rand(1,self.k)\n",
    "                if not userTarget in self.z:\n",
    "                    self.z[userTarget] = np.random.rand(self.k,1)\n",
    "                expUZ = np.exp(self.u[userSource].dot(self.z[userTarget])[0][0])\n",
    "                logistiqueUZ = (1.0/(1 + expUZ))\n",
    "                tmp = logistiqueUZ - linkScore\n",
    "                self.u[userSource] = self.u[userSource] - self.eps * tmp * expUZ * (logistiqueUZ **2) * self.z[userTarget].transpose()\n",
    "                self.z[userTarget] = self.z[userTarget] - self.eps * tmp * expUZ * (logistiqueUZ **2) * self.u[userSource].transpose()\n",
    "                lossUZ = lossUZ + tmp*tmp/2. \n",
    "                # Regularize  --------------------------------------------------------------------------------------\n",
    "                ru = np.random.choice(self.u.keys());\n",
    "                rv = np.random.choice(self.v.keys());\n",
    "                rz = np.random.choice(self.z.keys());\n",
    "                self.u[ru] = self.u[ru] * (1 - self.lambdaU * self.eps)\n",
    "                self.v[rv] = self.v[rv] * (1 - self.lambdaV * self.eps)\n",
    "                self.z[rz] = self.z[rz] * (1 - self.lambdaZ * self.eps)\n",
    "                lossReg = lossReg + np.sqrt((self.u[ru]**2).sum()) + np.sqrt((self.v[rv]**2).sum()) + np.sqrt((self.z[rz]**2).sum())\n",
    "            self.loss.append([lossUV, lossUZ, lossReg])\n",
    "            if (i % 1 == 0):\n",
    "                print i, (lossUV + lossUZ + lossReg) / len(tripletsUsersItems)\n",
    "                \n",
    "    def predict(self, tripletsUsersItems):\n",
    "        pred = np.zeros(len(tripletsUsersItems))\n",
    "        for ind,c in enumerate(tripletsUsersItems):\n",
    "            pred[ind] = self.u[c[0]].dot(self.v[c[1]])[0][0]\n",
    "        return pred\n",
    "    \n",
    "    def score(self, tripletsUsersItems):\n",
    "        pred = self.predict(tripletsUsersItems)\n",
    "        return ((pred - np.array(np.array(ratings_test)[:,2], float)) ** 2).mean()\n",
    "\n"
   ]
  },
  {
   "cell_type": "code",
   "execution_count": 21,
   "metadata": {
    "collapsed": false
   },
   "outputs": [],
   "source": [
    "# Chargement\n",
    "ratings_train, ratings_test, links = loadMovieLens()"
   ]
  },
  {
   "cell_type": "code",
   "execution_count": 23,
   "metadata": {
    "collapsed": false
   },
   "outputs": [
    {
     "name": "stdout",
     "output_type": "stream",
     "text": [
      "0 4.1125927467\n",
      "1 3.93975525962\n",
      "2 3.78564880906\n",
      "3 3.64612358038\n",
      "4 3.52297305965\n",
      "5 3.40647364768\n",
      "6 3.30481265737\n",
      "7 3.21362869091\n",
      "8 3.13162483844\n",
      "9 3.05572619624\n",
      "10 2.99534241978\n",
      "11 2.93746218915\n",
      "12 2.8800556211\n",
      "13 2.8378457854\n",
      "14 2.79588614063\n",
      "15 2.7544171721\n",
      "16 2.72513863651\n",
      "17 2.68872243145\n",
      "18 2.65855958722\n",
      "19 2.63476933672\n",
      "20 2.61076922955\n",
      "21 2.5940757102\n",
      "22 2.57132031567\n",
      "23 2.55478120756\n",
      "24 2.53498376478\n",
      "25 2.52458657041\n",
      "26 2.51025918026\n",
      "27 2.49701960179\n",
      "28 2.48365298642\n",
      "29 2.47397874387\n",
      "30 2.46805702493\n",
      "31 2.45823711985\n",
      "32 2.44141633583\n",
      "33 2.44067042286\n",
      "34 2.4367647309\n",
      "35 2.4332969163\n",
      "36 2.43002603806\n",
      "37 2.41833363269\n",
      "38 2.41777003041\n",
      "39 2.40586629884\n",
      "40 2.40505233993\n",
      "41 2.40760566814\n",
      "42 2.39603739054\n",
      "43 2.39851691725\n",
      "44 2.39649313509\n",
      "45 2.39319730998\n",
      "46 2.38898309405\n",
      "47 2.38683139348\n",
      "48 2.38554947024\n",
      "49 2.38921592994\n"
     ]
    }
   ],
   "source": [
    "sorec = SOREC(k=5,eps=0.01,maxIter = 50)\n",
    "sorec.fit(ratings_train,links)"
   ]
  },
  {
   "cell_type": "code",
   "execution_count": 24,
   "metadata": {
    "collapsed": false
   },
   "outputs": [
    {
     "name": "stdout",
     "output_type": "stream",
     "text": [
      "test erreur Sorec : 0.601835569678\n"
     ]
    }
   ],
   "source": [
    "print 'test erreur Sorec : {}'.format(sorec.score(ratings_test))"
   ]
  },
  {
   "cell_type": "code",
   "execution_count": null,
   "metadata": {
    "collapsed": true
   },
   "outputs": [],
   "source": []
  }
 ],
 "metadata": {
  "anaconda-cloud": {},
  "kernelspec": {
   "display_name": "Python 2",
   "language": "python",
   "name": "python2"
  },
  "language_info": {
   "codemirror_mode": {
    "name": "ipython",
    "version": 2
   },
   "file_extension": ".py",
   "mimetype": "text/x-python",
   "name": "python",
   "nbconvert_exporter": "python",
   "pygments_lexer": "ipython2",
   "version": "2.7.13"
  },
  "latex_envs": {
   "LaTeX_envs_menu_present": true,
   "bibliofile": "biblio.bib",
   "cite_by": "apalike",
   "current_citInitial": 1,
   "eqLabelWithNumbers": true,
   "eqNumInitial": 1,
   "hotkeys": {
    "equation": "Ctrl-E",
    "itemize": "Ctrl-I"
   },
   "labels_anchors": false,
   "latex_user_defs": false,
   "report_style_numbering": false,
   "user_envs_cfg": false
  }
 },
 "nbformat": 4,
 "nbformat_minor": 1
}
