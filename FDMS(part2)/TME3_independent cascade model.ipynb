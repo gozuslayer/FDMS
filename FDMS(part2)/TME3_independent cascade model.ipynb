{
 "cells": [
  {
   "cell_type": "code",
   "execution_count": 1,
   "metadata": {
    "collapsed": true
   },
   "outputs": [],
   "source": [
    "import networkx as nx\n",
    "import random"
   ]
  },
  {
   "cell_type": "code",
   "execution_count": 85,
   "metadata": {
    "collapsed": true
   },
   "outputs": [],
   "source": [
    "def independent_cascade_model(G, seeds, steps=0):\n",
    "    \n",
    "    # On verifie que les seeds sont dans G\n",
    "    for s in seeds:\n",
    "        if s not in G.nodes():\n",
    "            raise Exception(\"seed\", s, \"is not in graph\")\n",
    "\n",
    "    # init activation probabilities\n",
    "    for e in G.edges():\n",
    "        if 'act_prob' not in G[e[0]][e[1]]:\n",
    "            G[e[0]][e[1]]['act_prob'] = 0.1\n",
    "        elif G[e[0]][e[1]]['act_prob'] > 1:\n",
    "            raise Exception(\"link probability > 1\")\n",
    "\n",
    "    #diffusion\n",
    "    A = seeds[:]  \n",
    "    if steps <= 0:\n",
    "    # perform diffusion until no more nodes can be activated\n",
    "        print \"performing diffusion on all nodes\"\n",
    "        return diffuse_all(G, A)\n",
    "    \n",
    "    # perform diffusion for at most \"steps\" rounds\n",
    "    return diffuse_k_rounds(G, A, steps)"
   ]
  },
  {
   "cell_type": "code",
   "execution_count": 125,
   "metadata": {
    "collapsed": false
   },
   "outputs": [
    {
     "name": "stdout",
     "output_type": "stream",
     "text": [
      "\n"
     ]
    }
   ],
   "source": [
    "#cas step =< 0\n",
    "def diffuse_all(G, A):\n",
    "    tried_links = set()\n",
    "    layer_i_nodes = [ ]\n",
    "    #initialisation des seeds\n",
    "    layer_i_nodes.append([i for i in A])\n",
    "    \n",
    "    while True:\n",
    "        len_old = len(A)\n",
    "        #performing on step diffusion\n",
    "        (A, activated_nodes_of_this_round, current_tried_links) = diffuse_one_round(G, A, tried_links)\n",
    "        layer_i_nodes.append(activated_nodes_of_this_round)\n",
    "        tried_links = tried_links.union(current_tried_links)\n",
    "        if len(A) == G.number_of_nodes():\n",
    "            break\n",
    "    return layer_i_nodes"
   ]
  },
  {
   "cell_type": "code",
   "execution_count": 126,
   "metadata": {
    "collapsed": true
   },
   "outputs": [],
   "source": [
    "def diffuse_one_round(G, A, tried_links):\n",
    "    #initialisation\n",
    "    activated_nodes_round = set()\n",
    "    current_tried_link = set()\n",
    "    for s in A:\n",
    "        for nb in G.successors(s):\n",
    "            if nb in A or (s, nb) in current_tried_link:\n",
    "                continue\n",
    "            if _prop_success(G, s, nb):\n",
    "                activated_nodes_round.add(nb)\n",
    "            current_tried_link.add((s, nb))\n",
    "    activated_nodes_round = list(activated_nodes_round)\n",
    "    A.extend(activated_nodes_round)\n",
    "    return A, activated_nodes_round, current_tried_link"
   ]
  },
  {
   "cell_type": "code",
   "execution_count": 127,
   "metadata": {
    "collapsed": true
   },
   "outputs": [],
   "source": [
    "def diffuse_k_rounds(G, A, steps):\n",
    "    tried_link = set()\n",
    "    layer_i_nodes = [ ]\n",
    "    layer_i_nodes.append([i for i in A])\n",
    "    while steps > 0 and len(A) < len(G):\n",
    "        len_old = len(A)\n",
    "        (A, activated_nodes_of_this_round, current_tried_link) = diffuse_one_round(G, A, tried_link)\n",
    "        layer_i_nodes.append(activated_nodes_of_this_round)\n",
    "        tried_link = tried_link.union(current_tried_link)\n",
    "        if len(A) == len_old:\n",
    "            break\n",
    "        steps -= 1\n",
    "    return layer_i_nodes"
   ]
  },
  {
   "cell_type": "code",
   "execution_count": 128,
   "metadata": {
    "collapsed": true
   },
   "outputs": [],
   "source": [
    "def _prop_success(G, src, dest):\n",
    "    ''' reussite propagation'''\n",
    "    return random.random() <= G[src][dest]['act_prob']"
   ]
  },
  {
   "cell_type": "code",
   "execution_count": 131,
   "metadata": {
    "collapsed": false
   },
   "outputs": [],
   "source": [
    "DG = nx.DiGraph()\n",
    "DG.add_edges_from([(1,2), (1,3), (1,5), (2,1), (3,2), (4,2), (4,3),(4,6), (5,3), (5,4), (5,6), (6,4), (6,5)], act_prob=0.7)"
   ]
  },
  {
   "cell_type": "code",
   "execution_count": 132,
   "metadata": {
    "collapsed": false
   },
   "outputs": [
    {
     "name": "stdout",
     "output_type": "stream",
     "text": [
      "performing diffusion on all nodes\n"
     ]
    },
    {
     "data": {
      "text/plain": [
       "[[6], [5], [3, 4], [2], [1]]"
      ]
     },
     "execution_count": 132,
     "metadata": {},
     "output_type": "execute_result"
    }
   ],
   "source": [
    "H = independent_cascade_model(DG,[6])\n",
    "H"
   ]
  },
  {
   "cell_type": "markdown",
   "metadata": {},
   "source": [
    "# Apprentissage"
   ]
  },
  {
   "cell_type": "code",
   "execution_count": 74,
   "metadata": {
    "collapsed": false
   },
   "outputs": [],
   "source": [
    "import numpy as np\n",
    "\n",
    "#initialisation\n",
    "nbr_node = DG.number_of_nodes()\n",
    "Prob = np.random.randn(nbr_node,1)"
   ]
  },
  {
   "cell_type": "code",
   "execution_count": null,
   "metadata": {
    "collapsed": true
   },
   "outputs": [],
   "source": [
    "Prob_ "
   ]
  }
 ],
 "metadata": {
  "kernelspec": {
   "display_name": "Python [conda root]",
   "language": "python",
   "name": "conda-root-py"
  },
  "language_info": {
   "codemirror_mode": {
    "name": "ipython",
    "version": 2
   },
   "file_extension": ".py",
   "mimetype": "text/x-python",
   "name": "python",
   "nbconvert_exporter": "python",
   "pygments_lexer": "ipython2",
   "version": "2.7.12"
  }
 },
 "nbformat": 4,
 "nbformat_minor": 1
}
